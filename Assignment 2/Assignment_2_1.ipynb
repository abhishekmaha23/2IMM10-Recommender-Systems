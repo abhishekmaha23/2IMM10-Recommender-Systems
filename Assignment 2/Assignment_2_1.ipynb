{
  "nbformat": 4,
  "nbformat_minor": 0,
  "metadata": {
    "colab": {
      "name": "Assignment_2.ipynb",
      "version": "0.3.2",
      "provenance": [],
      "collapsed_sections": []
    },
    "language_info": {
      "codemirror_mode": {
        "name": "ipython",
        "version": 3
      },
      "file_extension": ".py",
      "mimetype": "text/x-python",
      "name": "python",
      "nbconvert_exporter": "python",
      "pygments_lexer": "ipython3",
      "version": "3.5.5"
    },
    "kernelspec": {
      "display_name": "Python 3",
      "language": "python",
      "name": "python3"
    },
    "accelerator": "GPU"
  },
  "cells": [
    {
      "cell_type": "markdown",
      "metadata": {
        "colab_type": "text",
        "id": "uj4T8PEHGbMF"
      },
      "source": [
        "# Assignment 2\n",
        "## Question 1: Siamese networks & one-shot learning (7pt)\n",
        "The Cifar-100 dataset is similar to the Cifar-10 dataset. It also consists of 60,000 32x32 RGB images, but they are distributed over 100 classes instead of 10. Thus, each class has much fewer examples, only 500 training images and 100 testing images per class. For more info about the dataset, see https://www.cs.toronto.edu/~kriz/cifar.html.\n",
        "\n",
        "*HINT: Import the Cifar-100 dataset directly from Keras, no need to download it from the website. Use* `label_mode=\"fine\"`\n",
        "\n",
        "### Task 1.1: Siamese network\n",
        "**a)**\n",
        "* Train a Siamese Network on the first 80 classes of (the training set of) Cifar-100, i.e. let the network predict the probability that two input images are from the same class. Use 1 as a target for pairs of images from the same class (positive pairs), and 0 for pairs of images from different classes (negative pairs). Randomly select image pairs from Cifar-100, but make sure you train on as many positive pairs as negative pairs.\n",
        "\n",
        "* Evaluate the performance of the network on 20-way one-shot learning tasks. Do this by generating 250 random tasks and obtain the average accuracy for each evaluation round. Use the remaining 20 classes that were not used for training. The model should perform better than random guessing.\n",
        "\n",
        "For this question you may ignore the test set of Cifar-100; it suffices to use only the training set and split this, using the first 80 classes for training and the remaining 20 classes for one-shot testing.\n",
        "\n",
        "*HINT: First sort the data by their labels (see e.g.* `numpy.argsort()`*), then reshape the data to a shape of* `(n_classes, n_examples, width, height, depth)`*, similar to the Omniglot data in Practical 4. It is then easier to split the data by class, and to sample positive and negative images pairs for training the Siamese network.*\n",
        "\n",
        "*NOTE: do not expect the one-shot accuracy for Cifar-100 to be similar to that accuracy for Omniglot; a lower accuracy can be expected. However, accuracy higher than random guess is certainly achievable.*"
      ]
    },
    {
      "cell_type": "code",
      "metadata": {
        "id": "B5XlMo9yMvf5",
        "colab_type": "code",
        "colab": {
          "base_uri": "https://localhost:8080/",
          "height": 34
        },
        "outputId": "1998bba8-a440-4080-f817-404120bd8d53"
      },
      "source": [
        "import matplotlib.pyplot as plt\n",
        "from keras.datasets import cifar100\n",
        "import numpy as np\n",
        "import pandas as pd\n",
        "import os\n",
        "from keras.layers import Input, Conv2D, Lambda, Dense, Flatten, MaxPooling2D, Dropout, BatchNormalization\n",
        "from keras.models import Model, Sequential\n",
        "from keras.regularizers import l2\n",
        "from keras.layers import Dense, Dropout, Conv2D, MaxPooling2D, Flatten, BatchNormalization\n",
        "from keras.utils import to_categorical\n",
        "from keras import backend as K\n",
        "from sklearn.utils import shuffle"
      ],
      "execution_count": 2,
      "outputs": [
        {
          "output_type": "stream",
          "text": [
            "Using TensorFlow backend.\n"
          ],
          "name": "stderr"
        }
      ]
    },
    {
      "cell_type": "code",
      "metadata": {
        "colab_type": "code",
        "id": "MaoAaEv17v6k",
        "colab": {
          "base_uri": "https://localhost:8080/",
          "height": 50
        },
        "outputId": "df2c357e-ac1e-4ca8-efae-9341bafd7ec3"
      },
      "source": [
        "# === add code here ===\n",
        "(x_train, y_train), (x_test, y_test) = cifar100.load_data(label_mode=\"fine\")"
      ],
      "execution_count": 5,
      "outputs": [
        {
          "output_type": "stream",
          "text": [
            "Downloading data from https://www.cs.toronto.edu/~kriz/cifar-100-python.tar.gz\n",
            "169009152/169001437 [==============================] - 20s 0us/step\n"
          ],
          "name": "stdout"
        }
      ]
    },
    {
      "cell_type": "code",
      "metadata": {
        "id": "iiaEnHNMMvgA",
        "colab_type": "code",
        "colab": {
          "base_uri": "https://localhost:8080/",
          "height": 34
        },
        "outputId": "534c7578-9f27-4255-d054-f403d113de67"
      },
      "source": [
        "print(x_train.shape)"
      ],
      "execution_count": 6,
      "outputs": [
        {
          "output_type": "stream",
          "text": [
            "(50000, 32, 32, 3)\n"
          ],
          "name": "stdout"
        }
      ]
    },
    {
      "cell_type": "code",
      "metadata": {
        "id": "2JdsjUSzMvgD",
        "colab_type": "code",
        "colab": {
          "base_uri": "https://localhost:8080/",
          "height": 50
        },
        "outputId": "75f7b282-aef6-4903-f3df-cb7290d2d9c4"
      },
      "source": [
        "y_train = y_train.flatten()\n",
        "y_test = y_test.flatten()\n",
        "print(y_train.shape)\n",
        "print(y_test.shape)"
      ],
      "execution_count": 7,
      "outputs": [
        {
          "output_type": "stream",
          "text": [
            "(50000,)\n",
            "(10000,)\n"
          ],
          "name": "stdout"
        }
      ]
    },
    {
      "cell_type": "code",
      "metadata": {
        "id": "mgoiy9tqMvgF",
        "colab_type": "code",
        "colab": {}
      },
      "source": [
        "class_labels = ['apple', 'aquarium_fish', 'baby', 'bear', 'beaver', 'bed', 'bee', 'beetle', \n",
        "    'bicycle', 'bottle', 'bowl', 'boy', 'bridge', 'bus', 'butterfly', 'camel', \n",
        "    'can', 'castle', 'caterpillar', 'cattle', 'chair', 'chimpanzee', 'clock', \n",
        "    'cloud', 'cockroach', 'couch', 'crab', 'crocodile', 'cup', 'dinosaur', \n",
        "    'dolphin', 'elephant', 'flatfish', 'forest', 'fox', 'girl', 'hamster', \n",
        "    'house', 'kangaroo', 'keyboard', 'lamp', 'lawn_mower', 'leopard', 'lion',\n",
        "    'lizard', 'lobster', 'man', 'maple_tree', 'motorcycle', 'mountain', 'mouse',\n",
        "    'mushroom', 'oak_tree', 'orange', 'orchid', 'otter', 'palm_tree', 'pear',\n",
        "    'pickup_truck', 'pine_tree', 'plain', 'plate', 'poppy', 'porcupine',\n",
        "    'possum', 'rabbit', 'raccoon', 'ray', 'road', 'rocket', 'rose',\n",
        "    'sea', 'seal', 'shark', 'shrew', 'skunk', 'skyscraper', 'snail', 'snake',\n",
        "    'spider', 'squirrel', 'streetcar', 'sunflower', 'sweet_pepper', 'table',\n",
        "    'tank', 'telephone', 'television', 'tiger', 'tractor', 'train', 'trout',\n",
        "    'tulip', 'turtle', 'wardrobe', 'whale', 'willow_tree', 'wolf', 'woman',\n",
        "    'worm']"
      ],
      "execution_count": 0,
      "outputs": []
    },
    {
      "cell_type": "code",
      "metadata": {
        "id": "6aVrASEXMvgH",
        "colab_type": "code",
        "colab": {
          "base_uri": "https://localhost:8080/",
          "height": 286
        },
        "outputId": "66582a6f-6bc0-4235-8601-01c227d6648a"
      },
      "source": [
        "example_id = 39999  # pick any integer from 0 to 49999 to visualize a training example\n",
        "example = x_train[example_id]\n",
        "label = y_train[example_id]\n",
        "print(\"Class label:\", class_labels[label])\n",
        "plt.imshow(example)\n",
        "plt.show()"
      ],
      "execution_count": 9,
      "outputs": [
        {
          "output_type": "stream",
          "text": [
            "Class label: skunk\n"
          ],
          "name": "stdout"
        },
        {
          "output_type": "display_data",
          "data": {
            "image/png": "[encoded data removed]",
            "text/plain": [
              "<Figure size 432x288 with 1 Axes>"
            ]
          },
          "metadata": {
            "tags": []
          }
        }
      ]
    },
    {
      "cell_type": "code",
      "metadata": {
        "id": "coyB9jvFMvgJ",
        "colab_type": "code",
        "colab": {
          "base_uri": "https://localhost:8080/",
          "height": 84
        },
        "outputId": "da5c706e-8551-4eaa-8bea-a187f173377d"
      },
      "source": [
        "img_rows,img_cols,chns = 32, 32, 3\n",
        "n_classes = 100\n",
        "\n",
        "x_train = x_train.reshape(x_train.shape[0], img_rows, img_cols, chns)\n",
        "x_test = x_test.reshape(x_test.shape[0], img_rows, img_cols, chns)\n",
        "input_shape = (img_rows, img_cols, chns)\n",
        "\n",
        "x_train = x_train.astype('float32')\n",
        "x_test = x_test.astype('float32')\n",
        "x_train /= 255\n",
        "x_test /= 255\n",
        "\n",
        "\n",
        "print(x_train.shape)\n",
        "print(y_train.shape)\n",
        "print(x_test.shape)\n",
        "print(y_test.shape)"
      ],
      "execution_count": 10,
      "outputs": [
        {
          "output_type": "stream",
          "text": [
            "(50000, 32, 32, 3)\n",
            "(50000,)\n",
            "(10000, 32, 32, 3)\n",
            "(10000,)\n"
          ],
          "name": "stdout"
        }
      ]
    },
    {
      "cell_type": "code",
      "metadata": {
        "id": "gNBIWXg9MvgM",
        "colab_type": "code",
        "colab": {
          "base_uri": "https://localhost:8080/",
          "height": 34
        },
        "outputId": "0f660759-22a5-43bc-809c-4fea6885ce9a"
      },
      "source": [
        "indexes = y_train.argsort()\n",
        "print(indexes)"
      ],
      "execution_count": 11,
      "outputs": [
        {
          "output_type": "stream",
          "text": [
            "[42957  2126 43210 ... 42095 26322 21122]\n"
          ],
          "name": "stdout"
        }
      ]
    },
    {
      "cell_type": "code",
      "metadata": {
        "id": "_Y6mh6ZYMvgP",
        "colab_type": "code",
        "colab": {
          "base_uri": "https://localhost:8080/",
          "height": 319
        },
        "outputId": "67972d46-2b57-42bc-f5fd-ac53c3f80474"
      },
      "source": [
        "x_train_sort = x_train[indexes]\n",
        "y_train_sort = y_train[indexes]\n",
        "\n",
        "print(x_train_sort.shape)\n",
        "print(y_train_sort.shape)\n",
        "\n",
        "example_id = 39999  # pick any integer from 0 to 49999 to visualize a training example\n",
        "example = x_train_sort[example_id]\n",
        "label = y_train_sort[example_id]\n",
        "print(\"Class label:\", class_labels[label])\n",
        "plt.imshow(example)\n",
        "plt.show()"
      ],
      "execution_count": 12,
      "outputs": [
        {
          "output_type": "stream",
          "text": [
            "(50000, 32, 32, 3)\n",
            "(50000,)\n",
            "Class label: spider\n"
          ],
          "name": "stdout"
        },
        {
          "output_type": "display_data",
          "data": {
            "image/png": "[encoded data removed]",
            "text/plain": [
              "<Figure size 432x288 with 1 Axes>"
            ]
          },
          "metadata": {
            "tags": []
          }
        }
      ]
    },
    {
      "cell_type": "code",
      "metadata": {
        "id": "pCsrdPYcMvgU",
        "colab_type": "code",
        "colab": {}
      },
      "source": [
        "def group(a, b):\n",
        "    # Get argsort indices, to be used to sort a and b in the next steps\n",
        "    sidx = b.argsort(kind='mergesort')\n",
        "    a_sorted = a[sidx]\n",
        "    b_sorted = b[sidx]\n",
        "\n",
        "    # Get the group limit indices (start, stop of groups)\n",
        "    cut_idx = np.flatnonzero(np.r_[True,b_sorted[1:] != b_sorted[:-1],True])\n",
        "\n",
        "    # Create cut indices for all unique IDs in b\n",
        "    n = b_sorted[-1]+2\n",
        "    cut_idxe = np.full(n, cut_idx[-1], dtype=int)\n",
        "\n",
        "    insert_idx = b_sorted[cut_idx[:-1]]\n",
        "    cut_idxe[insert_idx] = cut_idx[:-1]\n",
        "    cut_idxe = np.minimum.accumulate(cut_idxe[::-1])[::-1]\n",
        "\n",
        "    # Split input array with those start, stop ones\n",
        "    out = [a_sorted[i:j] for i,j in zip(cut_idxe[:-1],cut_idxe[1:])]\n",
        "    return np.array(out)"
      ],
      "execution_count": 0,
      "outputs": []
    },
    {
      "cell_type": "code",
      "metadata": {
        "id": "Zf0wCf1nMvgW",
        "colab_type": "code",
        "colab": {
          "base_uri": "https://localhost:8080/",
          "height": 34
        },
        "outputId": "2084ddad-7910-453c-b586-1771462c0ffd"
      },
      "source": [
        "x_train_shape = group(x_train_sort, y_train_sort)\n",
        "x_test_shape = group(x_test, y_test)\n",
        "x_test.shape"
      ],
      "execution_count": 14,
      "outputs": [
        {
          "output_type": "execute_result",
          "data": {
            "text/plain": [
              "(10000, 32, 32, 3)"
            ]
          },
          "metadata": {
            "tags": []
          },
          "execution_count": 14
        }
      ]
    },
    {
      "cell_type": "code",
      "metadata": {
        "id": "B8u0pBHZMvgZ",
        "colab_type": "code",
        "colab": {
          "base_uri": "https://localhost:8080/",
          "height": 101
        },
        "outputId": "cbdd0d32-18a8-4cbe-a53d-40eccb582288"
      },
      "source": [
        "print(len(x_train_shape))\n",
        "x_train_samples = x_train_shape[:80]\n",
        "y_train_samples = y_train_sort[:80]\n",
        "print(len(x_train_samples))\n",
        "print(x_train_samples.shape)\n",
        "print(y_train_samples.shape)\n",
        "print(x_test_shape.shape)"
      ],
      "execution_count": 15,
      "outputs": [
        {
          "output_type": "stream",
          "text": [
            "100\n",
            "80\n",
            "(80, 500, 32, 32, 3)\n",
            "(80,)\n",
            "(100, 100, 32, 32, 3)\n"
          ],
          "name": "stdout"
        }
      ]
    },
    {
      "cell_type": "code",
      "metadata": {
        "id": "SE5d-Oq7Mvgb",
        "colab_type": "code",
        "colab": {
          "base_uri": "https://localhost:8080/",
          "height": 1112
        },
        "outputId": "947e0582-f43b-450c-e480-1841fca9353f"
      },
      "source": [
        "input_shape = (32, 32, 3)\n",
        "left_input = Input(input_shape)\n",
        "right_input = Input(input_shape)\n",
        "\n",
        "# build convnet to use in each siamese 'leg'\n",
        "convnet = Sequential()\n",
        "convnet.add(Conv2D(64, (3,3), activation='relu', input_shape=input_shape, kernel_regularizer=l2(2e-4)))\n",
        "convnet.add(MaxPooling2D())\n",
        "convnet.add(BatchNormalization())\n",
        "convnet.add(Dropout(0.25))\n",
        "convnet.add(Conv2D(128, (3,3), activation='relu', kernel_regularizer=l2(2e-4)))\n",
        "convnet.add(MaxPooling2D())\n",
        "convnet.add(BatchNormalization())\n",
        "convnet.add(Dropout(0.25))\n",
        "convnet.add(Conv2D(128, (3,3), activation='relu', kernel_regularizer=l2(2e-4)))\n",
        "#convnet.add(MaxPooling2D())\n",
        "convnet.add(BatchNormalization())\n",
        "convnet.add(Dropout(0.25))\n",
        "convnet.add(Conv2D(256, (3,3), activation='relu', kernel_regularizer=l2(2e-4)))\n",
        "convnet.add(Flatten())\n",
        "convnet.add(BatchNormalization())\n",
        "convnet.add(Dropout(0.25))\n",
        "convnet.add(Dense(4096, activation=\"sigmoid\", kernel_regularizer=l2(1e-3)))\n",
        "convnet.summary()\n",
        "\n",
        "# encode each of the two inputs into a vector with the convnet\n",
        "encoded_l = convnet(left_input)\n",
        "encoded_r = convnet(right_input)\n",
        "\n",
        "# merge two encoded inputs with the L1 distance between them, and connect to prediction output layer\n",
        "L1_distance = lambda x: K.abs(x[0]-x[1])\n",
        "both = Lambda(L1_distance)([encoded_l, encoded_r])\n",
        "prediction = Dense(1, activation='sigmoid')(both)\n",
        "siamese_net = Model(inputs=[left_input,right_input], outputs=prediction)\n",
        "\n",
        "\n",
        "siamese_net.compile(loss=\"binary_crossentropy\", optimizer=\"adam\")\n",
        "\n",
        "siamese_net.summary()"
      ],
      "execution_count": 16,
      "outputs": [
        {
          "output_type": "stream",
          "text": [
            "WARNING:tensorflow:From /usr/local/lib/python3.6/dist-packages/tensorflow/python/framework/op_def_library.py:263: colocate_with (from tensorflow.python.framework.ops) is deprecated and will be removed in a future version.\n",
            "Instructions for updating:\n",
            "Colocations handled automatically by placer.\n",
            "WARNING:tensorflow:From /usr/local/lib/python3.6/dist-packages/keras/backend/tensorflow_backend.py:3445: calling dropout (from tensorflow.python.ops.nn_ops) with keep_prob is deprecated and will be removed in a future version.\n",
            "Instructions for updating:\n",
            "Please use `rate` instead of `keep_prob`. Rate should be set to `rate = 1 - keep_prob`.\n",
            "_________________________________________________________________\n",
            "Layer (type)                 Output Shape              Param #   \n",
            "=================================================================\n",
            "conv2d_1 (Conv2D)            (None, 30, 30, 64)        1792      \n",
            "_________________________________________________________________\n",
            "max_pooling2d_1 (MaxPooling2 (None, 15, 15, 64)        0         \n",
            "_________________________________________________________________\n",
            "batch_normalization_1 (Batch (None, 15, 15, 64)        256       \n",
            "_________________________________________________________________\n",
            "dropout_1 (Dropout)          (None, 15, 15, 64)        0         \n",
            "_________________________________________________________________\n",
            "conv2d_2 (Conv2D)            (None, 13, 13, 128)       73856     \n",
            "_________________________________________________________________\n",
            "max_pooling2d_2 (MaxPooling2 (None, 6, 6, 128)         0         \n",
            "_________________________________________________________________\n",
            "batch_normalization_2 (Batch (None, 6, 6, 128)         512       \n",
            "_________________________________________________________________\n",
            "dropout_2 (Dropout)          (None, 6, 6, 128)         0         \n",
            "_________________________________________________________________\n",
            "conv2d_3 (Conv2D)            (None, 4, 4, 128)         147584    \n",
            "_________________________________________________________________\n",
            "batch_normalization_3 (Batch (None, 4, 4, 128)         512       \n",
            "_________________________________________________________________\n",
            "dropout_3 (Dropout)          (None, 4, 4, 128)         0         \n",
            "_________________________________________________________________\n",
            "conv2d_4 (Conv2D)            (None, 2, 2, 256)         295168    \n",
            "_________________________________________________________________\n",
            "flatten_1 (Flatten)          (None, 1024)              0         \n",
            "_________________________________________________________________\n",
            "batch_normalization_4 (Batch (None, 1024)              4096      \n",
            "_________________________________________________________________\n",
            "dropout_4 (Dropout)          (None, 1024)              0         \n",
            "_________________________________________________________________\n",
            "dense_1 (Dense)              (None, 4096)              4198400   \n",
            "=================================================================\n",
            "Total params: 4,722,176\n",
            "Trainable params: 4,719,488\n",
            "Non-trainable params: 2,688\n",
            "_________________________________________________________________\n",
            "__________________________________________________________________________________________________\n",
            "Layer (type)                    Output Shape         Param #     Connected to                     \n",
            "==================================================================================================\n",
            "input_1 (InputLayer)            (None, 32, 32, 3)    0                                            \n",
            "__________________________________________________________________________________________________\n",
            "input_2 (InputLayer)            (None, 32, 32, 3)    0                                            \n",
            "__________________________________________________________________________________________________\n",
            "sequential_1 (Sequential)       (None, 4096)         4722176     input_1[0][0]                    \n",
            "                                                                 input_2[0][0]                    \n",
            "__________________________________________________________________________________________________\n",
            "lambda_1 (Lambda)               (None, 4096)         0           sequential_1[1][0]               \n",
            "                                                                 sequential_1[2][0]               \n",
            "__________________________________________________________________________________________________\n",
            "dense_2 (Dense)                 (None, 1)            4097        lambda_1[0][0]                   \n",
            "==================================================================================================\n",
            "Total params: 4,726,273\n",
            "Trainable params: 4,723,585\n",
            "Non-trainable params: 2,688\n",
            "__________________________________________________________________________________________________\n"
          ],
          "name": "stdout"
        }
      ]
    },
    {
      "cell_type": "code",
      "metadata": {
        "id": "JRpbGhM4Mvgd",
        "colab_type": "code",
        "colab": {}
      },
      "source": [
        "def get_batch(batch_size, X):\n",
        "    \"\"\"Create batch of n pairs, half same class, half different class\"\"\"\n",
        "    n_classes, n_examples, w, h, d = X.shape\n",
        "    # randomly sample several classes to use in the batch\n",
        "    categories = np.random.choice(n_classes, size=(batch_size,), replace=False)\n",
        "    # initialize 2 empty arrays for the input image batch\n",
        "    pairs = [np.zeros((batch_size, h, w, d)) for i in range(2)]\n",
        "    # initialize vector for the targets, and make one half of it '1's, so 2nd half of batch has same class\n",
        "    targets = np.zeros((batch_size,))\n",
        "    targets[batch_size//2:] = 1\n",
        "    for i in range(batch_size):\n",
        "        category = categories[i]\n",
        "        idx_1 = np.random.randint(0, n_examples)\n",
        "        pairs[0][i, :, :, :] = X[category, idx_1].reshape(w, h, d)\n",
        "        idx_2 = np.random.randint(0, n_examples)\n",
        "        # pick images of same class for 1st half, different for 2nd\n",
        "        if i >= batch_size // 2:\n",
        "            category_2 = category\n",
        "        else:\n",
        "            #add a random number to the category modulo n_classes to ensure 2nd image has different category\n",
        "            category_2 = (category + np.random.randint(1,n_classes)) % n_classes\n",
        "        pairs[1][i, :, :, :] = X[category_2,idx_2].reshape(w, h, d)\n",
        "    return pairs, targets\n",
        "\n",
        "def batch_generator(batch_size, X):\n",
        "    \"\"\"a generator for batches, so model.fit_generator can be used. \"\"\"\n",
        "    while True:\n",
        "        pairs, targets = get_batch(batch_size, X)\n",
        "        yield (pairs, targets)\n",
        "\n",
        "def train(model, X_train, batch_size=64, steps_per_epoch=100, epochs=10):\n",
        "    model.fit_generator(batch_generator(batch_size, X_train), steps_per_epoch=steps_per_epoch, epochs=epochs)"
      ],
      "execution_count": 0,
      "outputs": []
    },
    {
      "cell_type": "code",
      "metadata": {
        "id": "FyhiiquKMvgf",
        "colab_type": "code",
        "colab": {
          "base_uri": "https://localhost:8080/",
          "height": 423
        },
        "outputId": "3173f244-5cd1-4f2a-9415-0cfffe80644d"
      },
      "source": [
        "train(siamese_net, x_train_samples)"
      ],
      "execution_count": 18,
      "outputs": [
        {
          "output_type": "stream",
          "text": [
            "WARNING:tensorflow:From /usr/local/lib/python3.6/dist-packages/tensorflow/python/ops/math_ops.py:3066: to_int32 (from tensorflow.python.ops.math_ops) is deprecated and will be removed in a future version.\n",
            "Instructions for updating:\n",
            "Use tf.cast instead.\n",
            "Epoch 1/10\n",
            "100/100 [==============================] - 11s 113ms/step - loss: 1.8693\n",
            "Epoch 2/10\n",
            "100/100 [==============================] - 5s 54ms/step - loss: 1.2813\n",
            "Epoch 3/10\n",
            "100/100 [==============================] - 5s 54ms/step - loss: 0.9959\n",
            "Epoch 4/10\n",
            "100/100 [==============================] - 5s 54ms/step - loss: 0.8697\n",
            "Epoch 5/10\n",
            "100/100 [==============================] - 5s 54ms/step - loss: 0.8064\n",
            "Epoch 6/10\n",
            "100/100 [==============================] - 5s 54ms/step - loss: 0.7759\n",
            "Epoch 7/10\n",
            "100/100 [==============================] - 5s 55ms/step - loss: 0.7641\n",
            "Epoch 8/10\n",
            "100/100 [==============================] - 5s 55ms/step - loss: 0.7550\n",
            "Epoch 9/10\n",
            "100/100 [==============================] - 5s 55ms/step - loss: 0.7420\n",
            "Epoch 10/10\n",
            "100/100 [==============================] - 5s 55ms/step - loss: 0.7283\n"
          ],
          "name": "stdout"
        }
      ]
    },
    {
      "cell_type": "code",
      "metadata": {
        "id": "2QBNX9nXMvgi",
        "colab_type": "code",
        "colab": {}
      },
      "source": [
        "def make_oneshot_task(N, X, c, language=None):\n",
        "    \"\"\"Create pairs of (test image, support set image) with ground truth, for testing N-way one-shot learning.\"\"\"\n",
        "    n_classes, n_examples, w, h, d = X.shape\n",
        "    indices = np.random.randint(0, n_examples, size=(N,))\n",
        "    if language is not None:\n",
        "        low, high = c[language]\n",
        "        if N > high - low:\n",
        "            raise ValueError(\"This language ({}) has less than {} letters\".format(language, N))\n",
        "        categories = np.random.choice(range(low,high), size=(N,), replace=False)\n",
        "    else:  # if no language specified just pick a bunch of random letters\n",
        "        categories = np.random.choice(range(n_classes), size=(N,), replace=False)            \n",
        "    true_category = categories[0]\n",
        "    ex1, ex2 = np.random.choice(n_examples, replace=False, size=(2,))\n",
        "    test_image = np.asarray([X[true_category, ex1, :, :]]*N).reshape(N, w, h, d)\n",
        "    support_set = X[categories, indices, :, :]\n",
        "    support_set[0, :, :] = X[true_category, ex2]\n",
        "    support_set = support_set.reshape(N, w, h, d)\n",
        "    targets = np.zeros((N,))\n",
        "    targets[0] = 1\n",
        "    targets, test_image, support_set = shuffle(targets, test_image, support_set)\n",
        "    pairs = [test_image, support_set]\n",
        "    return pairs, targets\n",
        "\n",
        "def test_oneshot(model, X, c, N=20, k=250, language=None, verbose=True):\n",
        "    \"\"\"Test average N-way oneshot learning accuracy of a siamese neural net over k one-shot tasks.\"\"\"\n",
        "    n_correct = 0\n",
        "    if verbose:\n",
        "        print(\"Evaluating model on {} random {}-way one-shot learning tasks ...\".format(k, N))\n",
        "    for i in range(k):\n",
        "        inputs, targets = make_oneshot_task(N, X, c, language=language)\n",
        "        probs = model.predict(inputs)\n",
        "        if np.argmax(probs) == np.argmax(targets):\n",
        "            n_correct += 1\n",
        "    percent_correct = (100.0*n_correct / k)\n",
        "    if verbose:\n",
        "        print(\"Got an average of {}% accuracy for {}-way one-shot learning\".format(percent_correct, N))\n",
        "    return percent_correct"
      ],
      "execution_count": 0,
      "outputs": []
    },
    {
      "cell_type": "code",
      "metadata": {
        "id": "ZOGl4uGVMvgl",
        "colab_type": "code",
        "colab": {}
      },
      "source": [
        "pairs, targets = make_oneshot_task(20, x_train_samples, y_train_samples)\n",
        "#plot_oneshot_task(pairs)"
      ],
      "execution_count": 0,
      "outputs": []
    },
    {
      "cell_type": "code",
      "metadata": {
        "id": "WwQPPcsHMvgn",
        "colab_type": "code",
        "colab": {
          "base_uri": "https://localhost:8080/",
          "height": 841
        },
        "outputId": "f68699ad-fe93-4474-e528-05b9931832d2"
      },
      "source": [
        "best_acc = 0\n",
        "train(siamese_net, x_train_samples)\n",
        "test_acc = test_oneshot(siamese_net, x_test_shape, y_test)\n",
        "if test_acc >= best_acc:\n",
        "    print(\"New best one-shot accuracy, saving model ...\")\n",
        "    siamese_net.save(os.path.join(\"models\", \"siamese_omniglot.h5\"))\n",
        "    best_acc = test_acc"
      ],
      "execution_count": 21,
      "outputs": [
        {
          "output_type": "stream",
          "text": [
            "Epoch 1/10\n",
            "100/100 [==============================] - 6s 60ms/step - loss: 0.7269\n",
            "Epoch 2/10\n",
            "100/100 [==============================] - 5s 54ms/step - loss: 0.7223\n",
            "Epoch 3/10\n",
            "100/100 [==============================] - 5s 55ms/step - loss: 0.7163\n",
            "Epoch 4/10\n",
            "100/100 [==============================] - 5s 55ms/step - loss: 0.7130\n",
            "Epoch 5/10\n",
            "100/100 [==============================] - 5s 54ms/step - loss: 0.7091\n",
            "Epoch 6/10\n",
            "100/100 [==============================] - 5s 54ms/step - loss: 0.7114\n",
            "Epoch 7/10\n",
            "100/100 [==============================] - 5s 54ms/step - loss: 0.7039\n",
            "Epoch 8/10\n",
            "100/100 [==============================] - 5s 54ms/step - loss: 0.7048\n",
            "Epoch 9/10\n",
            "100/100 [==============================] - 5s 54ms/step - loss: 0.7043\n",
            "Epoch 10/10\n",
            "100/100 [==============================] - 5s 54ms/step - loss: 0.7064\n",
            "Evaluating model on 250 random 20-way one-shot learning tasks ...\n",
            "Got an average of 13.6% accuracy for 20-way one-shot learning\n",
            "New best one-shot accuracy, saving model ...\n"
          ],
          "name": "stdout"
        },
        {
          "output_type": "error",
          "ename": "OSError",
          "evalue": "ignored",
          "traceback": [
            "\u001b[0;31m---------------------------------------------------------------------------\u001b[0m",
            "\u001b[0;31mOSError\u001b[0m                                   Traceback (most recent call last)",
            "\u001b[0;32m<ipython-input-21-368a4329eb72>\u001b[0m in \u001b[0;36m<module>\u001b[0;34m()\u001b[0m\n\u001b[1;32m      4\u001b[0m \u001b[0;32mif\u001b[0m \u001b[0mtest_acc\u001b[0m \u001b[0;34m>=\u001b[0m \u001b[0mbest_acc\u001b[0m\u001b[0;34m:\u001b[0m\u001b[0;34m\u001b[0m\u001b[0;34m\u001b[0m\u001b[0m\n\u001b[1;32m      5\u001b[0m     \u001b[0mprint\u001b[0m\u001b[0;34m(\u001b[0m\u001b[0;34m\"New best one-shot accuracy, saving model ...\"\u001b[0m\u001b[0;34m)\u001b[0m\u001b[0;34m\u001b[0m\u001b[0;34m\u001b[0m\u001b[0m\n\u001b[0;32m----> 6\u001b[0;31m     \u001b[0msiamese_net\u001b[0m\u001b[0;34m.\u001b[0m\u001b[0msave\u001b[0m\u001b[0;34m(\u001b[0m\u001b[0mos\u001b[0m\u001b[0;34m.\u001b[0m\u001b[0mpath\u001b[0m\u001b[0;34m.\u001b[0m\u001b[0mjoin\u001b[0m\u001b[0;34m(\u001b[0m\u001b[0;34m\"models\"\u001b[0m\u001b[0;34m,\u001b[0m \u001b[0;34m\"siamese_omniglot.h5\"\u001b[0m\u001b[0;34m)\u001b[0m\u001b[0;34m)\u001b[0m\u001b[0;34m\u001b[0m\u001b[0;34m\u001b[0m\u001b[0m\n\u001b[0m\u001b[1;32m      7\u001b[0m     \u001b[0mbest_acc\u001b[0m \u001b[0;34m=\u001b[0m \u001b[0mtest_acc\u001b[0m\u001b[0;34m\u001b[0m\u001b[0;34m\u001b[0m\u001b[0m\n",
            "\u001b[0;32m/usr/local/lib/python3.6/dist-packages/keras/engine/network.py\u001b[0m in \u001b[0;36msave\u001b[0;34m(self, filepath, overwrite, include_optimizer)\u001b[0m\n\u001b[1;32m   1088\u001b[0m             \u001b[0;32mraise\u001b[0m \u001b[0mNotImplementedError\u001b[0m\u001b[0;34m\u001b[0m\u001b[0;34m\u001b[0m\u001b[0m\n\u001b[1;32m   1089\u001b[0m         \u001b[0;32mfrom\u001b[0m \u001b[0;34m.\u001b[0m\u001b[0;34m.\u001b[0m\u001b[0mmodels\u001b[0m \u001b[0;32mimport\u001b[0m \u001b[0msave_model\u001b[0m\u001b[0;34m\u001b[0m\u001b[0;34m\u001b[0m\u001b[0m\n\u001b[0;32m-> 1090\u001b[0;31m         \u001b[0msave_model\u001b[0m\u001b[0;34m(\u001b[0m\u001b[0mself\u001b[0m\u001b[0;34m,\u001b[0m \u001b[0mfilepath\u001b[0m\u001b[0;34m,\u001b[0m \u001b[0moverwrite\u001b[0m\u001b[0;34m,\u001b[0m \u001b[0minclude_optimizer\u001b[0m\u001b[0;34m)\u001b[0m\u001b[0;34m\u001b[0m\u001b[0;34m\u001b[0m\u001b[0m\n\u001b[0m\u001b[1;32m   1091\u001b[0m \u001b[0;34m\u001b[0m\u001b[0m\n\u001b[1;32m   1092\u001b[0m     \u001b[0;32mdef\u001b[0m \u001b[0msave_weights\u001b[0m\u001b[0;34m(\u001b[0m\u001b[0mself\u001b[0m\u001b[0;34m,\u001b[0m \u001b[0mfilepath\u001b[0m\u001b[0;34m,\u001b[0m \u001b[0moverwrite\u001b[0m\u001b[0;34m=\u001b[0m\u001b[0;32mTrue\u001b[0m\u001b[0;34m)\u001b[0m\u001b[0;34m:\u001b[0m\u001b[0;34m\u001b[0m\u001b[0;34m\u001b[0m\u001b[0m\n",
            "\u001b[0;32m/usr/local/lib/python3.6/dist-packages/keras/engine/saving.py\u001b[0m in \u001b[0;36msave_model\u001b[0;34m(model, filepath, overwrite, include_optimizer)\u001b[0m\n\u001b[1;32m    377\u001b[0m         \u001b[0mopened_new_file\u001b[0m \u001b[0;34m=\u001b[0m \u001b[0;32mFalse\u001b[0m\u001b[0;34m\u001b[0m\u001b[0;34m\u001b[0m\u001b[0m\n\u001b[1;32m    378\u001b[0m \u001b[0;34m\u001b[0m\u001b[0m\n\u001b[0;32m--> 379\u001b[0;31m     \u001b[0mf\u001b[0m \u001b[0;34m=\u001b[0m \u001b[0mh5dict\u001b[0m\u001b[0;34m(\u001b[0m\u001b[0mfilepath\u001b[0m\u001b[0;34m,\u001b[0m \u001b[0mmode\u001b[0m\u001b[0;34m=\u001b[0m\u001b[0;34m'w'\u001b[0m\u001b[0;34m)\u001b[0m\u001b[0;34m\u001b[0m\u001b[0;34m\u001b[0m\u001b[0m\n\u001b[0m\u001b[1;32m    380\u001b[0m \u001b[0;34m\u001b[0m\u001b[0m\n\u001b[1;32m    381\u001b[0m     \u001b[0;32mtry\u001b[0m\u001b[0;34m:\u001b[0m\u001b[0;34m\u001b[0m\u001b[0;34m\u001b[0m\u001b[0m\n",
            "\u001b[0;32m/usr/local/lib/python3.6/dist-packages/keras/utils/io_utils.py\u001b[0m in \u001b[0;36m__init__\u001b[0;34m(self, path, mode)\u001b[0m\n\u001b[1;32m    184\u001b[0m             \u001b[0mself\u001b[0m\u001b[0;34m.\u001b[0m\u001b[0m_is_file\u001b[0m \u001b[0;34m=\u001b[0m \u001b[0;32mFalse\u001b[0m\u001b[0;34m\u001b[0m\u001b[0;34m\u001b[0m\u001b[0m\n\u001b[1;32m    185\u001b[0m         \u001b[0;32melif\u001b[0m \u001b[0misinstance\u001b[0m\u001b[0;34m(\u001b[0m\u001b[0mpath\u001b[0m\u001b[0;34m,\u001b[0m \u001b[0mstr\u001b[0m\u001b[0;34m)\u001b[0m\u001b[0;34m:\u001b[0m\u001b[0;34m\u001b[0m\u001b[0;34m\u001b[0m\u001b[0m\n\u001b[0;32m--> 186\u001b[0;31m             \u001b[0mself\u001b[0m\u001b[0;34m.\u001b[0m\u001b[0mdata\u001b[0m \u001b[0;34m=\u001b[0m \u001b[0mh5py\u001b[0m\u001b[0;34m.\u001b[0m\u001b[0mFile\u001b[0m\u001b[0;34m(\u001b[0m\u001b[0mpath\u001b[0m\u001b[0;34m,\u001b[0m \u001b[0mmode\u001b[0m\u001b[0;34m=\u001b[0m\u001b[0mmode\u001b[0m\u001b[0;34m)\u001b[0m\u001b[0;34m\u001b[0m\u001b[0;34m\u001b[0m\u001b[0m\n\u001b[0m\u001b[1;32m    187\u001b[0m             \u001b[0mself\u001b[0m\u001b[0;34m.\u001b[0m\u001b[0m_is_file\u001b[0m \u001b[0;34m=\u001b[0m \u001b[0;32mTrue\u001b[0m\u001b[0;34m\u001b[0m\u001b[0;34m\u001b[0m\u001b[0m\n\u001b[1;32m    188\u001b[0m         \u001b[0;32melif\u001b[0m \u001b[0misinstance\u001b[0m\u001b[0;34m(\u001b[0m\u001b[0mpath\u001b[0m\u001b[0;34m,\u001b[0m \u001b[0mdict\u001b[0m\u001b[0;34m)\u001b[0m\u001b[0;34m:\u001b[0m\u001b[0;34m\u001b[0m\u001b[0;34m\u001b[0m\u001b[0m\n",
            "\u001b[0;32m/usr/local/lib/python3.6/dist-packages/h5py/_hl/files.py\u001b[0m in \u001b[0;36m__init__\u001b[0;34m(self, name, mode, driver, libver, userblock_size, swmr, **kwds)\u001b[0m\n\u001b[1;32m    310\u001b[0m             \u001b[0;32mwith\u001b[0m \u001b[0mphil\u001b[0m\u001b[0;34m:\u001b[0m\u001b[0;34m\u001b[0m\u001b[0;34m\u001b[0m\u001b[0m\n\u001b[1;32m    311\u001b[0m                 \u001b[0mfapl\u001b[0m \u001b[0;34m=\u001b[0m \u001b[0mmake_fapl\u001b[0m\u001b[0;34m(\u001b[0m\u001b[0mdriver\u001b[0m\u001b[0;34m,\u001b[0m \u001b[0mlibver\u001b[0m\u001b[0;34m,\u001b[0m \u001b[0;34m**\u001b[0m\u001b[0mkwds\u001b[0m\u001b[0;34m)\u001b[0m\u001b[0;34m\u001b[0m\u001b[0;34m\u001b[0m\u001b[0m\n\u001b[0;32m--> 312\u001b[0;31m                 \u001b[0mfid\u001b[0m \u001b[0;34m=\u001b[0m \u001b[0mmake_fid\u001b[0m\u001b[0;34m(\u001b[0m\u001b[0mname\u001b[0m\u001b[0;34m,\u001b[0m \u001b[0mmode\u001b[0m\u001b[0;34m,\u001b[0m \u001b[0muserblock_size\u001b[0m\u001b[0;34m,\u001b[0m \u001b[0mfapl\u001b[0m\u001b[0;34m,\u001b[0m \u001b[0mswmr\u001b[0m\u001b[0;34m=\u001b[0m\u001b[0mswmr\u001b[0m\u001b[0;34m)\u001b[0m\u001b[0;34m\u001b[0m\u001b[0;34m\u001b[0m\u001b[0m\n\u001b[0m\u001b[1;32m    313\u001b[0m \u001b[0;34m\u001b[0m\u001b[0m\n\u001b[1;32m    314\u001b[0m                 \u001b[0;32mif\u001b[0m \u001b[0mswmr_support\u001b[0m\u001b[0;34m:\u001b[0m\u001b[0;34m\u001b[0m\u001b[0;34m\u001b[0m\u001b[0m\n",
            "\u001b[0;32m/usr/local/lib/python3.6/dist-packages/h5py/_hl/files.py\u001b[0m in \u001b[0;36mmake_fid\u001b[0;34m(name, mode, userblock_size, fapl, fcpl, swmr)\u001b[0m\n\u001b[1;32m    146\u001b[0m         \u001b[0mfid\u001b[0m \u001b[0;34m=\u001b[0m \u001b[0mh5f\u001b[0m\u001b[0;34m.\u001b[0m\u001b[0mcreate\u001b[0m\u001b[0;34m(\u001b[0m\u001b[0mname\u001b[0m\u001b[0;34m,\u001b[0m \u001b[0mh5f\u001b[0m\u001b[0;34m.\u001b[0m\u001b[0mACC_EXCL\u001b[0m\u001b[0;34m,\u001b[0m \u001b[0mfapl\u001b[0m\u001b[0;34m=\u001b[0m\u001b[0mfapl\u001b[0m\u001b[0;34m,\u001b[0m \u001b[0mfcpl\u001b[0m\u001b[0;34m=\u001b[0m\u001b[0mfcpl\u001b[0m\u001b[0;34m)\u001b[0m\u001b[0;34m\u001b[0m\u001b[0;34m\u001b[0m\u001b[0m\n\u001b[1;32m    147\u001b[0m     \u001b[0;32melif\u001b[0m \u001b[0mmode\u001b[0m \u001b[0;34m==\u001b[0m \u001b[0;34m'w'\u001b[0m\u001b[0;34m:\u001b[0m\u001b[0;34m\u001b[0m\u001b[0;34m\u001b[0m\u001b[0m\n\u001b[0;32m--> 148\u001b[0;31m         \u001b[0mfid\u001b[0m \u001b[0;34m=\u001b[0m \u001b[0mh5f\u001b[0m\u001b[0;34m.\u001b[0m\u001b[0mcreate\u001b[0m\u001b[0;34m(\u001b[0m\u001b[0mname\u001b[0m\u001b[0;34m,\u001b[0m \u001b[0mh5f\u001b[0m\u001b[0;34m.\u001b[0m\u001b[0mACC_TRUNC\u001b[0m\u001b[0;34m,\u001b[0m \u001b[0mfapl\u001b[0m\u001b[0;34m=\u001b[0m\u001b[0mfapl\u001b[0m\u001b[0;34m,\u001b[0m \u001b[0mfcpl\u001b[0m\u001b[0;34m=\u001b[0m\u001b[0mfcpl\u001b[0m\u001b[0;34m)\u001b[0m\u001b[0;34m\u001b[0m\u001b[0;34m\u001b[0m\u001b[0m\n\u001b[0m\u001b[1;32m    149\u001b[0m     \u001b[0;32melif\u001b[0m \u001b[0mmode\u001b[0m \u001b[0;34m==\u001b[0m \u001b[0;34m'a'\u001b[0m\u001b[0;34m:\u001b[0m\u001b[0;34m\u001b[0m\u001b[0;34m\u001b[0m\u001b[0m\n\u001b[1;32m    150\u001b[0m         \u001b[0;31m# Open in append mode (read/write).\u001b[0m\u001b[0;34m\u001b[0m\u001b[0;34m\u001b[0m\u001b[0;34m\u001b[0m\u001b[0m\n",
            "\u001b[0;32mh5py/_objects.pyx\u001b[0m in \u001b[0;36mh5py._objects.with_phil.wrapper\u001b[0;34m()\u001b[0m\n",
            "\u001b[0;32mh5py/_objects.pyx\u001b[0m in \u001b[0;36mh5py._objects.with_phil.wrapper\u001b[0;34m()\u001b[0m\n",
            "\u001b[0;32mh5py/h5f.pyx\u001b[0m in \u001b[0;36mh5py.h5f.create\u001b[0;34m()\u001b[0m\n",
            "\u001b[0;31mOSError\u001b[0m: Unable to create file (unable to open file: name = 'models/siamese_omniglot.h5', errno = 2, error message = 'No such file or directory', flags = 13, o_flags = 242)"
          ]
        }
      ]
    },
    {
      "cell_type": "markdown",
      "metadata": {
        "colab_type": "text",
        "id": "COiAqXWDAgCe"
      },
      "source": [
        "***\n",
        "\n",
        "**b)** Compare the performance of your Siamese network for Cifar-100 to the Siamese network from Practical 4 for Omniglot. Name three fundamental differences between the Cifar-100 and Omniglot datasets. How do these differences influence the difference in one-shot accuracy?\n",
        "\n",
        "**Answer:**"
      ]
    },
    {
      "cell_type": "code",
      "metadata": {
        "id": "pvpbMD4ZMvgr",
        "colab_type": "code",
        "colab": {}
      },
      "source": [
        ""
      ],
      "execution_count": 0,
      "outputs": []
    },
    {
      "cell_type": "markdown",
      "metadata": {
        "colab_type": "text",
        "id": "IIHkoQ0PBWuB"
      },
      "source": [
        "*=== write your answer here ===*"
      ]
    },
    {
      "cell_type": "markdown",
      "metadata": {
        "colab_type": "text",
        "id": "VWpFF_5-Bf4B"
      },
      "source": [
        "***\n",
        "\n",
        "### Task 1.2: One-shot learning with neural codes\n",
        "**a)**\n",
        "* Train a CNN classifier on the first 80 classes of Cifar-100. Make sure it achieves at least 40% classification accuracy on those 80 classes (use the test set to validate this accuracy).\n",
        "* Then use neural codes from one of the later hidden layers of the CNN with L2-distance to evaluate one-shot learning accuracy for the remaining 20 classes of Cifar-100 with 250 random tasks. I.e. for a given one-shot task, obtain neural codes for the test image as well as the support set. Then pick the image from the support set that is closest (in L2-distance) to the test image as your one-shot prediction."
      ]
    },
    {
      "cell_type": "code",
      "metadata": {
        "id": "7n9sICFTMvgu",
        "colab_type": "code",
        "colab": {
          "base_uri": "https://localhost:8080/",
          "height": 336
        },
        "outputId": "853bbdb4-d5d5-4ef1-fbe9-0326188bc45f"
      },
      "source": [
        "x_training_CNN = x_train_sort[:40000]\n",
        "y_training = y_train_sort[:40000]\n",
        "\n",
        "y_training_CNN = to_categorical(y_training, 100)\n",
        "y_test_CNN = to_categorical(y_test, 100)\n",
        "\n",
        "print(x_training_CNN.shape)\n",
        "print(y_training_CNN.shape)\n",
        "print(y_test_CNN.shape)\n",
        "\n",
        "example_id = 39999  # pick any integer from 0 to 49999 to visualize a training example\n",
        "example = x_training_CNN[example_id]\n",
        "label = y_train_sort[example_id]\n",
        "print(\"Class label:\", class_labels[label])\n",
        "plt.imshow(example)\n",
        "plt.show()"
      ],
      "execution_count": 22,
      "outputs": [
        {
          "output_type": "stream",
          "text": [
            "(40000, 32, 32, 3)\n",
            "(40000, 100)\n",
            "(10000, 100)\n",
            "Class label: spider\n"
          ],
          "name": "stdout"
        },
        {
          "output_type": "display_data",
          "data": {
            "image/png": "[encoded data removed]",
            "text/plain": [
              "<Figure size 432x288 with 1 Axes>"
            ]
          },
          "metadata": {
            "tags": []
          }
        }
      ]
    },
    {
      "cell_type": "code",
      "metadata": {
        "colab_type": "code",
        "id": "qU7rNa157v6r",
        "colab": {
          "base_uri": "https://localhost:8080/",
          "height": 470
        },
        "outputId": "b1bf0ff9-eaa5-4d01-f795-6924a79cb900"
      },
      "source": [
        "# === add code here ===\n",
        "input_shape = (32, 32, 3)\n",
        "model = Sequential()\n",
        "model.add(Conv2D(32,(3,3),activation = 'relu', input_shape = input_shape))\n",
        "#model.add(Conv2D(32,(3,3),activation = 'relu'))\n",
        "model.add(MaxPooling2D())\n",
        "model.add(BatchNormalization())\n",
        "model.add(Dropout(0.5))\n",
        "model.add(Conv2D(64,(3,3),activation = 'relu'))\n",
        "#model.add(Conv2D(64,(3,3),activation = 'relu'))\n",
        "model.add(MaxPooling2D())\n",
        "model.add(BatchNormalization())\n",
        "model.add(Dropout(0.5))\n",
        "#model.add(Conv2D(256,(3,3),activation = 'relu'))\n",
        "#model.add(Conv2D(128,(3,3),activation = 'relu'))\n",
        "#model.add(MaxPooling2D())\n",
        "#model.add(BatchNormalization())\n",
        "#model.add(Dropout(0.4))\n",
        "model.add(Flatten())\n",
        "#model.add(Conv2D(256,(3,3),activation = 'relu'))\n",
        "#model.add(Conv2D(256,(3,3),activation = 'relu'))\n",
        "#model.add(MaxPooling2D())\n",
        "#model.add(BatchNormalization())\n",
        "#model.add(Dropout(0.25))\n",
        "model.add(Dense(100,activation = 'softmax'))\n",
        "\n",
        "model.summary()\n",
        "\n",
        "model.compile(optimizer=\"adadelta\", loss=\"categorical_crossentropy\", metrics=[\"accuracy\"])"
      ],
      "execution_count": 62,
      "outputs": [
        {
          "output_type": "stream",
          "text": [
            "_________________________________________________________________\n",
            "Layer (type)                 Output Shape              Param #   \n",
            "=================================================================\n",
            "conv2d_38 (Conv2D)           (None, 30, 30, 32)        896       \n",
            "_________________________________________________________________\n",
            "max_pooling2d_36 (MaxPooling (None, 15, 15, 32)        0         \n",
            "_________________________________________________________________\n",
            "batch_normalization_38 (Batc (None, 15, 15, 32)        128       \n",
            "_________________________________________________________________\n",
            "dropout_38 (Dropout)         (None, 15, 15, 32)        0         \n",
            "_________________________________________________________________\n",
            "conv2d_39 (Conv2D)           (None, 13, 13, 64)        18496     \n",
            "_________________________________________________________________\n",
            "max_pooling2d_37 (MaxPooling (None, 6, 6, 64)          0         \n",
            "_________________________________________________________________\n",
            "batch_normalization_39 (Batc (None, 6, 6, 64)          256       \n",
            "_________________________________________________________________\n",
            "dropout_39 (Dropout)         (None, 6, 6, 64)          0         \n",
            "_________________________________________________________________\n",
            "flatten_15 (Flatten)         (None, 2304)              0         \n",
            "_________________________________________________________________\n",
            "dense_16 (Dense)             (None, 100)               230500    \n",
            "=================================================================\n",
            "Total params: 250,276\n",
            "Trainable params: 250,084\n",
            "Non-trainable params: 192\n",
            "_________________________________________________________________\n"
          ],
          "name": "stdout"
        }
      ]
    },
    {
      "cell_type": "code",
      "metadata": {
        "id": "nNh4qrV1Mvgz",
        "colab_type": "code",
        "colab": {
          "base_uri": "https://localhost:8080/",
          "height": 420
        },
        "outputId": "3eb8b5db-c53b-4c02-c3c1-0d32769260d9"
      },
      "source": [
        "batch_size = 100\n",
        "epochs = 10\n",
        "print(x_training_CNN.shape)\n",
        "print(y_training_CNN.shape)\n",
        "model.fit(x_training_CNN, y_training_CNN,\n",
        "          batch_size=batch_size,\n",
        "          epochs=epochs,\n",
        "          validation_data = (x_test, y_test_CNN))"
      ],
      "execution_count": 65,
      "outputs": [
        {
          "output_type": "stream",
          "text": [
            "(40000, 32, 32, 3)\n",
            "(40000, 100)\n",
            "Train on 36000 samples, validate on 4000 samples\n",
            "Epoch 1/10\n",
            "36000/36000 [==============================] - 6s 161us/step - loss: 2.0823 - acc: 0.4521 - val_loss: 7.2763 - val_acc: 0.0015\n",
            "Epoch 2/10\n",
            "36000/36000 [==============================] - 6s 159us/step - loss: 2.0387 - acc: 0.4620 - val_loss: 8.7795 - val_acc: 2.5000e-04\n",
            "Epoch 3/10\n",
            "36000/36000 [==============================] - 6s 159us/step - loss: 2.0179 - acc: 0.4666 - val_loss: 9.9769 - val_acc: 0.0000e+00\n",
            "Epoch 4/10\n",
            "36000/36000 [==============================] - 6s 159us/step - loss: 1.9966 - acc: 0.4685 - val_loss: 11.0055 - val_acc: 0.0000e+00\n",
            "Epoch 5/10\n",
            "36000/36000 [==============================] - 6s 158us/step - loss: 1.9804 - acc: 0.4760 - val_loss: 12.2723 - val_acc: 0.0000e+00\n",
            "Epoch 6/10\n",
            "36000/36000 [==============================] - 6s 157us/step - loss: 1.9539 - acc: 0.4767 - val_loss: 9.8306 - val_acc: 5.0000e-04\n",
            "Epoch 7/10\n",
            "36000/36000 [==============================] - 6s 156us/step - loss: 1.9391 - acc: 0.4863 - val_loss: 12.1956 - val_acc: 0.0000e+00\n",
            "Epoch 8/10\n",
            "36000/36000 [==============================] - 6s 156us/step - loss: 1.9251 - acc: 0.4872 - val_loss: 13.5603 - val_acc: 0.0000e+00\n",
            "Epoch 9/10\n",
            "36000/36000 [==============================] - 6s 156us/step - loss: 1.9038 - acc: 0.4895 - val_loss: 14.8137 - val_acc: 0.0000e+00\n",
            "Epoch 10/10\n",
            "36000/36000 [==============================] - 6s 156us/step - loss: 1.8870 - acc: 0.4941 - val_loss: 14.2097 - val_acc: 0.0000e+00\n"
          ],
          "name": "stdout"
        },
        {
          "output_type": "execute_result",
          "data": {
            "text/plain": [
              "<keras.callbacks.History at 0x7f02dbaed550>"
            ]
          },
          "metadata": {
            "tags": []
          },
          "execution_count": 65
        }
      ]
    },
    {
      "cell_type": "code",
      "metadata": {
        "id": "SRw5mU2MOplR",
        "colab_type": "code",
        "colab": {
          "base_uri": "https://localhost:8080/",
          "height": 67
        },
        "outputId": "5fce07b5-180d-4295-e0a0-afde4c534904"
      },
      "source": [
        "loss, accuracy = model.evaluate(x_test, y_test_CNN, verbose=1)\n",
        "\n",
        "print('Test loss:', loss)\n",
        "print('Test accuracy:', accuracy)"
      ],
      "execution_count": 66,
      "outputs": [
        {
          "output_type": "stream",
          "text": [
            "10000/10000 [==============================] - 1s 123us/step\n",
            "Test loss: 6.1813901512145994\n",
            "Test accuracy: 0.2505\n"
          ],
          "name": "stdout"
        }
      ]
    },
    {
      "cell_type": "markdown",
      "metadata": {
        "colab_type": "text",
        "id": "M1BDzdPAz26B"
      },
      "source": [
        "***\n",
        "\n",
        "**b)** Briefly motivate your CNN architecture, and discuss the difference in one-shot accuracy between the Siamese network approach and the CNN neural codes approach.\n",
        "\n",
        "**Answer:**"
      ]
    },
    {
      "cell_type": "markdown",
      "metadata": {
        "colab_type": "text",
        "id": "oRpVm956FR8P"
      },
      "source": [
        "*=== write your answer here ===*"
      ]
    },
    {
      "cell_type": "markdown",
      "metadata": {
        "colab_type": "text",
        "id": "p-gkaM1tCThc"
      },
      "source": [
        "***\n",
        "## Question 2: Triplet networks & one-shot learning (10pt)\n",
        "\n",
        "### Task 2.1: Train a triplet network\n",
        "**a)**\n",
        "* Train a triplet network on the first 80 classes of (the training set of) Cifar-100.\n",
        " \n",
        "* Make sure the network achieves a smaller loss than the margin and the network does not collapse all representations to zero vectors. *HINT: If you experience problems to achieve this goal, it might be helpful to tinker the learning rate.*\n",
        "\n",
        "* You are provided with a working example of triplet loss implementation for Keras below. You may directly use it.\n",
        "\n",
        "You may ignore the test set of Cifar-100 for this question as well. It suffices to use only the training set and split this, using the first 80 classes for training and the remaining 20 classes for one-shot testing.\n",
        "\n",
        "```python\n",
        "# Notice that ground truth variable is not used for loss calculation. It is used as a function argument to by-pass some Keras functionality. This is because the network structure already implies the ground truth for the anchor image with the \"positive\" image.\n",
        "import tensorflow as tf\n",
        "def triplet_loss(ground_truth, network_output):\n",
        "\n",
        "    anchor, positive, negative = tf.split(network_output, num_or_size_splits=3, axis=1)        \n",
        "    \n",
        "    for embedding in [anchor, positive, negative]:\n",
        "        embedding = tf.math.l2_normalize(embedding)\n",
        "\n",
        "    pos_dist = tf.reduce_sum(tf.square(tf.subtract(anchor, positive)), axis=1)\n",
        "    neg_dist = tf.reduce_sum(tf.square(tf.subtract(anchor, negative)), axis=1)\n",
        "    \n",
        "    margin = # define your margin\n",
        "    basic_loss = tf.add(tf.subtract(pos_dist, neg_dist), margin)\n",
        "    loss = tf.reduce_mean(tf.maximum(basic_loss, 0.0), axis=0)\n",
        "\n",
        "    return loss\n",
        "```\n"
      ]
    },
    {
      "cell_type": "code",
      "metadata": {
        "colab_type": "code",
        "id": "FIHD8l_rRLy5",
        "colab": {}
      },
      "source": [
        "# === add code here ==="
      ],
      "execution_count": 0,
      "outputs": []
    },
    {
      "cell_type": "markdown",
      "metadata": {
        "colab_type": "text",
        "id": "XHGJp45AR1qm"
      },
      "source": [
        "***\n",
        "\n",
        "### Task 2.2: One-shot learning with triplet neural codes\n",
        "**a)**\n",
        "* Use neural codes from the triplet network with L2-distance to evaluate one-shot learning accuracy for the remaining 20 classes of Cifar-100 with 250 random tasks. I.e. for a given one-shot task, obtain neural codes for the test image as well as the support set. Then pick the image from the support set that is closest (in L2-distance) to the test image as your one-shot prediction.\n",
        "* Explicitly state the accuracy."
      ]
    },
    {
      "cell_type": "code",
      "metadata": {
        "colab_type": "code",
        "id": "7w6o8xIXUADN",
        "colab": {}
      },
      "source": [
        "# === add code here ==="
      ],
      "execution_count": 0,
      "outputs": []
    },
    {
      "cell_type": "markdown",
      "metadata": {
        "colab_type": "text",
        "id": "CCcmbz0UU7mR"
      },
      "source": [
        "***\n",
        "## Question 3: Performance comparison (3pt)\n",
        "\n",
        "\n",
        "**a)** What accuracy would random guessing achieve (on average) on this dataset? Motivate your answer briefly."
      ]
    },
    {
      "cell_type": "markdown",
      "metadata": {
        "colab_type": "text",
        "id": "BKGDydqsVVX1"
      },
      "source": [
        "*=== write your answer here ===*\n",
        "\n"
      ]
    },
    {
      "cell_type": "markdown",
      "metadata": {
        "colab_type": "text",
        "id": "5KLXRv-eV04Q"
      },
      "source": [
        "**b)** Discuss and compare the performances of networks in tasks 1.1, 1.2 and 2.2. Briefly motivate and explain which task would be expected the highest accuracy. Explain the reasons of the accuracy difference if there are any. If there is almost no difference accuracy, explain the reason for that."
      ]
    },
    {
      "cell_type": "markdown",
      "metadata": {
        "colab_type": "text",
        "id": "71kTHFBkcjp8"
      },
      "source": [
        "*=== write your answer here ===*"
      ]
    },
    {
      "cell_type": "markdown",
      "metadata": {
        "id": "pn1Q0zG1Mvg_",
        "colab_type": "text"
      },
      "source": [
        "***\n",
        "## Question 4: Peer review (0pt)\n",
        "\n",
        "Finally, each group member must write a single paragraph outlining their opinion on the work distribution within the group. Did every group member contribute equally? Did you split up tasks in a fair manner, or jointly worked through the exercises. Do you think that some members of your group deserve a different grade from others?"
      ]
    },
    {
      "cell_type": "markdown",
      "metadata": {
        "id": "vL2NQVFxMvg_",
        "colab_type": "text"
      },
      "source": [
        "*=== write your answer here ===*"
      ]
    }
  ]
}