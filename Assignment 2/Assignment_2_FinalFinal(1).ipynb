{
 "cells": [
  {
   "cell_type": "markdown",
   "metadata": {
    "colab_type": "text",
    "id": "uj4T8PEHGbMF"
   },
   "source": [
    "# Assignment 2\n",
    "## Question 1: Siamese networks & one-shot learning (7pt)\n",
    "The Cifar-100 dataset is similar to the Cifar-10 dataset. It also consists of 60,000 32x32 RGB images, but they are distributed over 100 classes instead of 10. Thus, each class has much fewer examples, only 500 training images and 100 testing images per class. For more info about the dataset, see https://www.cs.toronto.edu/~kriz/cifar.html.\n",
    "\n",
    "*HINT: Import the Cifar-100 dataset directly from Keras, no need to download it from the website. Use* `label_mode=\"fine\"`\n",
    "\n",
    "### Task 1.1: Siamese network\n",
    "**a)**\n",
    "* Train a Siamese Network on the first 80 classes of (the training set of) Cifar-100, i.e. let the network predict the probability that two input images are from the same class. Use 1 as a target for pairs of images from the same class (positive pairs), and 0 for pairs of images from different classes (negative pairs). Randomly select image pairs from Cifar-100, but make sure you train on as many positive pairs as negative pairs.\n",
    "\n",
    "* Evaluate the performance of the network on 20-way one-shot learning tasks. Do this by generating 250 random tasks and obtain the average accuracy for each evaluation round. Use the remaining 20 classes that were not used for training. The model should perform better than random guessing.\n",
    "\n",
    "For this question you may ignore the test set of Cifar-100; it suffices to use only the training set and split this, using the first 80 classes for training and the remaining 20 classes for one-shot testing.\n",
    "\n",
    "*HINT: First sort the data by their labels (see e.g.* `numpy.argsort()`*), then reshape the data to a shape of* `(n_classes, n_examples, width, height, depth)`*, similar to the Omniglot data in Practical 4. It is then easier to split the data by class, and to sample positive and negative images pairs for training the Siamese network.*\n",
    "\n",
    "*NOTE: do not expect the one-shot accuracy for Cifar-100 to be similar to that accuracy for Omniglot; a lower accuracy can be expected. However, accuracy higher than random guess is certainly achievable.*"
   ]
  },
  {
   "cell_type": "code",
   "execution_count": 0,
   "metadata": {
    "colab": {
     "base_uri": "https://localhost:8080/",
     "height": 34
    },
    "colab_type": "code",
    "id": "B5XlMo9yMvf5",
    "outputId": "3e108bc5-f12c-4bb8-a9f9-e4a04017a40c"
   },
   "outputs": [
    {
     "name": "stderr",
     "output_type": "stream",
     "text": [
      "C:\\Users\\20181592\\AppData\\Local\\Continuum\\anaconda3\\envs\\py3\\lib\\site-packages\\h5py\\__init__.py:36: FutureWarning: Conversion of the second argument of issubdtype from `float` to `np.floating` is deprecated. In future, it will be treated as `np.float64 == np.dtype(float).type`.\n",
      "  from ._conv import register_converters as _register_converters\n",
      "Using TensorFlow backend.\n"
     ]
    }
   ],
   "source": [
    "import matplotlib.pyplot as plt\n",
    "from keras.datasets import cifar100\n",
    "import numpy as np\n",
    "import pandas as pd\n",
    "import os\n",
    "from keras.layers import Input, Conv2D, Lambda, Dense, Flatten, MaxPooling2D, Dropout, BatchNormalization\n",
    "from keras.models import Model, Sequential\n",
    "from keras.regularizers import l2\n",
    "from keras.layers import Dense, Dropout, Conv2D, MaxPooling2D, Flatten, BatchNormalization\n",
    "from keras.utils import to_categorical\n",
    "from keras import backend as K\n",
    "from sklearn.utils import shuffle\n",
    "from scipy.spatial import distance\n",
    "from keras.layers import Concatenate"
   ]
  },
  {
   "cell_type": "code",
   "execution_count": 0,
   "metadata": {
    "colab": {},
    "colab_type": "code",
    "id": "MaoAaEv17v6k"
   },
   "outputs": [],
   "source": [
    "# === add code here ===\n",
    "(x_train, y_train), (x_test, y_test) = cifar100.load_data(label_mode=\"fine\")"
   ]
  },
  {
   "cell_type": "code",
   "execution_count": 0,
   "metadata": {
    "colab": {
     "base_uri": "https://localhost:8080/",
     "height": 34
    },
    "colab_type": "code",
    "id": "iiaEnHNMMvgA",
    "outputId": "c10e86a8-6c4d-426f-958b-5f9d6eddb74e"
   },
   "outputs": [
    {
     "name": "stdout",
     "output_type": "stream",
     "text": [
      "(50000, 32, 32, 3)\n"
     ]
    }
   ],
   "source": [
    "print(x_train.shape)"
   ]
  },
  {
   "cell_type": "code",
   "execution_count": 0,
   "metadata": {
    "colab": {
     "base_uri": "https://localhost:8080/",
     "height": 52
    },
    "colab_type": "code",
    "id": "2JdsjUSzMvgD",
    "outputId": "efef02ea-2824-4a38-ae5c-288749acf264"
   },
   "outputs": [
    {
     "name": "stdout",
     "output_type": "stream",
     "text": [
      "(50000,)\n",
      "(10000,)\n"
     ]
    }
   ],
   "source": [
    "y_train = y_train.flatten()\n",
    "y_test = y_test.flatten()\n",
    "print(y_train.shape)\n",
    "print(y_test.shape)"
   ]
  },
  {
   "cell_type": "code",
   "execution_count": 0,
   "metadata": {
    "colab": {},
    "colab_type": "code",
    "id": "mgoiy9tqMvgF"
   },
   "outputs": [],
   "source": [
    "class_labels = ['apple', 'aquarium_fish', 'baby', 'bear', 'beaver', 'bed', 'bee', 'beetle', \n",
    "    'bicycle', 'bottle', 'bowl', 'boy', 'bridge', 'bus', 'butterfly', 'camel', \n",
    "    'can', 'castle', 'caterpillar', 'cattle', 'chair', 'chimpanzee', 'clock', \n",
    "    'cloud', 'cockroach', 'couch', 'crab', 'crocodile', 'cup', 'dinosaur', \n",
    "    'dolphin', 'elephant', 'flatfish', 'forest', 'fox', 'girl', 'hamster', \n",
    "    'house', 'kangaroo', 'keyboard', 'lamp', 'lawn_mower', 'leopard', 'lion',\n",
    "    'lizard', 'lobster', 'man', 'maple_tree', 'motorcycle', 'mountain', 'mouse',\n",
    "    'mushroom', 'oak_tree', 'orange', 'orchid', 'otter', 'palm_tree', 'pear',\n",
    "    'pickup_truck', 'pine_tree', 'plain', 'plate', 'poppy', 'porcupine',\n",
    "    'possum', 'rabbit', 'raccoon', 'ray', 'road', 'rocket', 'rose',\n",
    "    'sea', 'seal', 'shark', 'shrew', 'skunk', 'skyscraper', 'snail', 'snake',\n",
    "    'spider', 'squirrel', 'streetcar', 'sunflower', 'sweet_pepper', 'table',\n",
    "    'tank', 'telephone', 'television', 'tiger', 'tractor', 'train', 'trout',\n",
    "    'tulip', 'turtle', 'wardrobe', 'whale', 'willow_tree', 'wolf', 'woman',\n",
    "    'worm']"
   ]
  },
  {
   "cell_type": "code",
   "execution_count": 0,
   "metadata": {
    "colab": {
     "base_uri": "https://localhost:8080/",
     "height": 286
    },
    "colab_type": "code",
    "id": "6aVrASEXMvgH",
    "outputId": "80ccb7e1-8a8f-43ae-cde2-d4c596e333ae"
   },
   "outputs": [
    {
     "name": "stdout",
     "output_type": "stream",
     "text": [
      "Class label: lion\n"
     ]
    },
    {
     "data": {
      "image/png": "[encoded data removed]",
      "text/plain": [
       "<Figure size 432x288 with 1 Axes>"
      ]
     },
     "metadata": {
      "tags": []
     },
     "output_type": "display_data"
    }
   ],
   "source": [
    "example_id = 14130  # pick any integer from 0 to 49999 to visualize a training example\n",
    "example = x_train[example_id]\n",
    "label = y_train[example_id]\n",
    "print(\"Class label:\", class_labels[label])\n",
    "plt.imshow(example)\n",
    "plt.show()"
   ]
  },
  {
   "cell_type": "code",
   "execution_count": 0,
   "metadata": {
    "colab": {
     "base_uri": "https://localhost:8080/",
     "height": 87
    },
    "colab_type": "code",
    "id": "coyB9jvFMvgJ",
    "outputId": "76b65b10-82e4-47a1-b2db-b31deb207053"
   },
   "outputs": [
    {
     "name": "stdout",
     "output_type": "stream",
     "text": [
      "(50000, 32, 32, 3)\n",
      "(50000,)\n",
      "(10000, 32, 32, 3)\n",
      "(10000,)\n"
     ]
    }
   ],
   "source": [
    "img_rows,img_cols,chns = 32, 32, 3\n",
    "n_classes = 100\n",
    "\n",
    "x_train = x_train.reshape(x_train.shape[0], img_rows, img_cols, chns)\n",
    "x_test = x_test.reshape(x_test.shape[0], img_rows, img_cols, chns)\n",
    "input_shape = (img_rows, img_cols, chns)\n",
    "\n",
    "x_train = x_train.astype('float32')\n",
    "x_test = x_test.astype('float32')\n",
    "x_train /= 255\n",
    "x_test /= 255\n",
    "\n",
    "\n",
    "print(x_train.shape)\n",
    "print(y_train.shape)\n",
    "print(x_test.shape)\n",
    "print(y_test.shape)"
   ]
  },
  {
   "cell_type": "code",
   "execution_count": 0,
   "metadata": {
    "colab": {
     "base_uri": "https://localhost:8080/",
     "height": 34
    },
    "colab_type": "code",
    "id": "gNBIWXg9MvgM",
    "outputId": "28b9e148-80fb-47a1-ffef-f42fb200f569"
   },
   "outputs": [
    {
     "name": "stdout",
     "output_type": "stream",
     "text": [
      "[42957  2126 43210 ... 42095 26322 21122]\n",
      "[9221 1027 2426 ... 8387 9860 9153]\n"
     ]
    }
   ],
   "source": [
    "indexes_train = y_train.argsort()\n",
    "indexes_test = y_test.argsort()\n",
    "print(indexes_train)\n",
    "print(indexes_test)"
   ]
  },
  {
   "cell_type": "code",
   "execution_count": 0,
   "metadata": {
    "colab": {
     "base_uri": "https://localhost:8080/",
     "height": 322
    },
    "colab_type": "code",
    "id": "_Y6mh6ZYMvgP",
    "outputId": "d335b46b-d34a-4c6a-e93a-f6558184ae02"
   },
   "outputs": [
    {
     "name": "stdout",
     "output_type": "stream",
     "text": [
      "(50000, 32, 32, 3)\n",
      "(50000,)\n",
      "(10000, 32, 32, 3)\n",
      "(10000,)\n",
      "Class label: spider\n"
     ]
    },
    {
     "data": {
      "image/png": "[encoded data removed]",
      "text/plain": [
       "<Figure size 432x288 with 1 Axes>"
      ]
     },
     "metadata": {
      "tags": []
     },
     "output_type": "display_data"
    }
   ],
   "source": [
    "x_train_sort = x_train[indexes_train]\n",
    "y_train_sort = y_train[indexes_train]\n",
    "\n",
    "x_test_sort = x_test[indexes_test]\n",
    "y_test_sort = y_test[indexes_test]\n",
    "\n",
    "print(x_train_sort.shape)\n",
    "print(y_train_sort.shape)\n",
    "print(x_test_sort.shape)\n",
    "print(y_test_sort.shape)\n",
    "\n",
    "example_id = 39999  # pick any integer from 0 to 49999 to visualize a training example\n",
    "example = x_train_sort[example_id]\n",
    "label = y_train_sort[example_id]\n",
    "print(\"Class label:\", class_labels[label])\n",
    "plt.imshow(example)\n",
    "plt.show()"
   ]
  },
  {
   "cell_type": "code",
   "execution_count": 0,
   "metadata": {
    "colab": {},
    "colab_type": "code",
    "id": "pCsrdPYcMvgU"
   },
   "outputs": [],
   "source": [
    "def group(a, b):\n",
    "    # Get argsort indices, to be used to sort a and b in the next steps\n",
    "    sidx = b.argsort(kind='mergesort')\n",
    "    a_sorted = a[sidx]\n",
    "    b_sorted = b[sidx]\n",
    "\n",
    "    # Get the group limit indices (start, stop of groups)\n",
    "    cut_idx = np.flatnonzero(np.r_[True,b_sorted[1:] != b_sorted[:-1],True])\n",
    "\n",
    "    # Create cut indices for all unique IDs in b\n",
    "    n = b_sorted[-1]+2\n",
    "    cut_idxe = np.full(n, cut_idx[-1], dtype=int)\n",
    "\n",
    "    insert_idx = b_sorted[cut_idx[:-1]]\n",
    "    cut_idxe[insert_idx] = cut_idx[:-1]\n",
    "    cut_idxe = np.minimum.accumulate(cut_idxe[::-1])[::-1]\n",
    "\n",
    "    # Split input array with those start, stop ones\n",
    "    out = [a_sorted[i:j] for i,j in zip(cut_idxe[:-1],cut_idxe[1:])]\n",
    "    return np.array(out)"
   ]
  },
  {
   "cell_type": "code",
   "execution_count": 0,
   "metadata": {
    "colab": {
     "base_uri": "https://localhost:8080/",
     "height": 34
    },
    "colab_type": "code",
    "id": "Zf0wCf1nMvgW",
    "outputId": "ba80beaf-c55d-4a45-8f55-3bd6e8c16dbf"
   },
   "outputs": [
    {
     "name": "stdout",
     "output_type": "stream",
     "text": [
      "(100, 500, 32, 32, 3)\n",
      "(10000, 32, 32, 3)\n"
     ]
    }
   ],
   "source": [
    "x_train_shape = group(x_train_sort, y_train_sort)\n",
    "x_test_shape = group(x_test, y_test)\n",
    "print(x_train_shape.shape)\n",
    "print(x_test.shape)"
   ]
  },
  {
   "cell_type": "code",
   "execution_count": 0,
   "metadata": {
    "colab": {
     "base_uri": "https://localhost:8080/",
     "height": 105
    },
    "colab_type": "code",
    "id": "B8u0pBHZMvgZ",
    "outputId": "dfe387e0-62aa-4356-c1ff-3efc992d888c"
   },
   "outputs": [
    {
     "name": "stdout",
     "output_type": "stream",
     "text": [
      "(80, 500, 32, 32, 3)\n",
      "(40000,)\n",
      "(20, 500, 32, 32, 3)\n",
      "(10000,)\n"
     ]
    }
   ],
   "source": [
    "x_train_samples = x_train_shape[:80]\n",
    "y_train_samples = y_train_sort[:40000]\n",
    "\n",
    "x_train_rem_samples = x_train_shape[80:]\n",
    "y_train_rem_samples = y_train_sort[40000:]\n",
    "\n",
    "print(x_train_samples.shape)\n",
    "print(y_train_samples.shape)\n",
    "print(x_train_rem_samples.shape)\n",
    "print(y_train_rem_samples.shape)"
   ]
  },
  {
   "cell_type": "code",
   "execution_count": 0,
   "metadata": {
    "colab": {
     "base_uri": "https://localhost:8080/",
     "height": 1163
    },
    "colab_type": "code",
    "id": "SE5d-Oq7Mvgb",
    "outputId": "6b6e6cbe-e9bb-4dd9-e2cd-0b9159dc0f1e"
   },
   "outputs": [
    {
     "name": "stdout",
     "output_type": "stream",
     "text": [
      "_________________________________________________________________\n",
      "Layer (type)                 Output Shape              Param #   \n",
      "=================================================================\n",
      "conv2d_1 (Conv2D)            (None, 30, 30, 64)        1792      \n",
      "_________________________________________________________________\n",
      "max_pooling2d_1 (MaxPooling2 (None, 15, 15, 64)        0         \n",
      "_________________________________________________________________\n",
      "batch_normalization_1 (Batch (None, 15, 15, 64)        256       \n",
      "_________________________________________________________________\n",
      "dropout_1 (Dropout)          (None, 15, 15, 64)        0         \n",
      "_________________________________________________________________\n",
      "conv2d_2 (Conv2D)            (None, 13, 13, 128)       73856     \n",
      "_________________________________________________________________\n",
      "max_pooling2d_2 (MaxPooling2 (None, 6, 6, 128)         0         \n",
      "_________________________________________________________________\n",
      "batch_normalization_2 (Batch (None, 6, 6, 128)         512       \n",
      "_________________________________________________________________\n",
      "dropout_2 (Dropout)          (None, 6, 6, 128)         0         \n",
      "_________________________________________________________________\n",
      "conv2d_3 (Conv2D)            (None, 4, 4, 128)         147584    \n",
      "_________________________________________________________________\n",
      "batch_normalization_3 (Batch (None, 4, 4, 128)         512       \n",
      "_________________________________________________________________\n",
      "dropout_3 (Dropout)          (None, 4, 4, 128)         0         \n",
      "_________________________________________________________________\n",
      "conv2d_4 (Conv2D)            (None, 2, 2, 256)         295168    \n",
      "_________________________________________________________________\n",
      "flatten_1 (Flatten)          (None, 1024)              0         \n",
      "_________________________________________________________________\n",
      "batch_normalization_4 (Batch (None, 1024)              4096      \n",
      "_________________________________________________________________\n",
      "dropout_4 (Dropout)          (None, 1024)              0         \n",
      "_________________________________________________________________\n",
      "dense_1 (Dense)              (None, 4096)              4198400   \n",
      "=================================================================\n",
      "Total params: 4,722,176\n",
      "Trainable params: 4,719,488\n",
      "Non-trainable params: 2,688\n",
      "_________________________________________________________________\n",
      "__________________________________________________________________________________________________\n",
      "Layer (type)                    Output Shape         Param #     Connected to                     \n",
      "==================================================================================================\n",
      "input_1 (InputLayer)            (None, 32, 32, 3)    0                                            \n",
      "__________________________________________________________________________________________________\n",
      "input_2 (InputLayer)            (None, 32, 32, 3)    0                                            \n",
      "__________________________________________________________________________________________________\n",
      "sequential_1 (Sequential)       (None, 4096)         4722176     input_1[0][0]                    \n",
      "                                                                 input_2[0][0]                    \n",
      "__________________________________________________________________________________________________\n",
      "lambda_1 (Lambda)               (None, 4096)         0           sequential_1[1][0]               \n",
      "                                                                 sequential_1[2][0]               \n",
      "__________________________________________________________________________________________________\n",
      "dense_2 (Dense)                 (None, 1)            4097        lambda_1[0][0]                   \n",
      "==================================================================================================\n",
      "Total params: 4,726,273\n",
      "Trainable params: 4,723,585\n",
      "Non-trainable params: 2,688\n",
      "__________________________________________________________________________________________________\n"
     ]
    }
   ],
   "source": [
    "input_shape = (32, 32, 3)\n",
    "left_input = Input(input_shape)\n",
    "right_input = Input(input_shape)\n",
    "\n",
    "# build convnet to use in each siamese 'leg'\n",
    "convnet = Sequential()\n",
    "\n",
    "convnet.add(Conv2D(64, (3,3), activation='relu', input_shape=input_shape, kernel_regularizer=l2(2e-4)))\n",
    "convnet.add(MaxPooling2D())\n",
    "convnet.add(BatchNormalization())\n",
    "convnet.add(Dropout(0.25))\n",
    "\n",
    "convnet.add(Conv2D(128, (3,3), activation='relu', kernel_regularizer=l2(2e-4)))\n",
    "convnet.add(MaxPooling2D())\n",
    "convnet.add(BatchNormalization())\n",
    "convnet.add(Dropout(0.25))\n",
    "\n",
    "convnet.add(Conv2D(128, (3,3), activation='relu', kernel_regularizer=l2(2e-4)))\n",
    "convnet.add(BatchNormalization())\n",
    "convnet.add(Dropout(0.25))\n",
    "\n",
    "convnet.add(Conv2D(256, (3,3), activation='relu', kernel_regularizer=l2(2e-4)))\n",
    "convnet.add(Flatten())\n",
    "convnet.add(BatchNormalization())\n",
    "convnet.add(Dropout(0.25))\n",
    "\n",
    "convnet.add(Dense(4096, activation=\"sigmoid\", kernel_regularizer=l2(1e-3)))\n",
    "convnet.summary()\n",
    "\n",
    "# encode each of the two inputs into a vector with the convnet\n",
    "encoded_l = convnet(left_input)\n",
    "encoded_r = convnet(right_input)\n",
    "\n",
    "# merge two encoded inputs with the L1 distance between them, and connect to prediction output layer\n",
    "L1_distance = lambda x: K.abs(x[0]-x[1])\n",
    "both = Lambda(L1_distance)([encoded_l, encoded_r])\n",
    "prediction = Dense(1, activation='sigmoid')(both)\n",
    "siamese_net = Model(inputs=[left_input,right_input], outputs=prediction)\n",
    "\n",
    "siamese_net.compile(loss=\"binary_crossentropy\", optimizer=\"adam\")\n",
    "\n",
    "siamese_net.summary()"
   ]
  },
  {
   "cell_type": "code",
   "execution_count": 0,
   "metadata": {
    "colab": {},
    "colab_type": "code",
    "id": "JRpbGhM4Mvgd"
   },
   "outputs": [],
   "source": [
    "def get_batch(batch_size, X):\n",
    "    \"\"\"Create batch of n pairs, half same class, half different class\"\"\"\n",
    "    n_classes, n_examples, w, h, d = X.shape\n",
    "    # randomly sample several classes to use in the batch\n",
    "    categories = np.random.choice(n_classes, size=(batch_size,), replace=False)\n",
    "    # initialize 2 empty arrays for the input image batch\n",
    "    pairs = [np.zeros((batch_size, h, w, d)) for i in range(2)]\n",
    "    # initialize vector for the targets, and make one half of it '1's, so 2nd half of batch has same class\n",
    "    targets = np.zeros((batch_size,))\n",
    "    targets[batch_size//2:] = 1\n",
    "    for i in range(batch_size):\n",
    "        category = categories[i]\n",
    "        idx_1 = np.random.randint(0, n_examples)\n",
    "        pairs[0][i, :, :, :] = X[category, idx_1].reshape(w, h, d)\n",
    "        idx_2 = np.random.randint(0, n_examples)\n",
    "        # pick images of same class for 1st half, different for 2nd\n",
    "        if i >= batch_size // 2:\n",
    "            category_2 = category\n",
    "        else:\n",
    "            #add a random number to the category modulo n_classes to ensure 2nd image has different category\n",
    "            category_2 = (category + np.random.randint(1,n_classes)) % n_classes\n",
    "        pairs[1][i, :, :, :] = X[category_2,idx_2].reshape(w, h, d)\n",
    "    return pairs, targets\n",
    "\n",
    "def batch_generator(batch_size, X):\n",
    "    \"\"\"a generator for batches, so model.fit_generator can be used. \"\"\"\n",
    "    while True:\n",
    "        pairs, targets = get_batch(batch_size, X)\n",
    "        yield (pairs, targets)\n",
    "\n",
    "def train(model, X_train, batch_size=64, steps_per_epoch=100, epochs=1):\n",
    "    model.fit_generator(batch_generator(batch_size, X_train), steps_per_epoch=steps_per_epoch, epochs=epochs)"
   ]
  },
  {
   "cell_type": "code",
   "execution_count": 0,
   "metadata": {
    "colab": {},
    "colab_type": "code",
    "id": "2QBNX9nXMvgi"
   },
   "outputs": [],
   "source": [
    "def make_oneshot_task(N, X, c, language=None):\n",
    "    \"\"\"Create pairs of (test image, support set image) with ground truth, for testing N-way one-shot learning.\"\"\"\n",
    "    n_classes, n_examples, w, h, d = X.shape\n",
    "    indices = np.random.randint(0, n_examples, size=(N,))\n",
    "    if language is not None:\n",
    "        low, high = c[language]\n",
    "        if N > high - low:\n",
    "            raise ValueError(\"This language ({}) has less than {} letters\".format(language, N))\n",
    "        categories = np.random.choice(range(low,high), size=(N,), replace=False)\n",
    "    else:  # if no language specified just pick a bunch of random letters\n",
    "        categories = np.random.choice(range(n_classes), size=(N,), replace=False)            \n",
    "    true_category = categories[0]\n",
    "    ex1, ex2 = np.random.choice(n_examples, replace=False, size=(2,))\n",
    "    test_image = np.asarray([X[true_category, ex1, :, :]]*N).reshape(N, w, h, d)\n",
    "    support_set = X[categories, indices, :, :]\n",
    "    support_set[0, :, :] = X[true_category, ex2]\n",
    "    support_set = support_set.reshape(N, w, h, d)\n",
    "    targets = np.zeros((N,))\n",
    "    targets[0] = 1\n",
    "    targets, test_image, support_set = shuffle(targets, test_image, support_set)\n",
    "    pairs = [test_image, support_set]\n",
    "    return pairs, targets\n",
    "\n",
    "def test_oneshot(model, X, c, N=20, k=250, language=None, verbose=True):\n",
    "    \"\"\"Test average N-way oneshot learning accuracy of a siamese neural net over k one-shot tasks.\"\"\"\n",
    "    n_correct = 0\n",
    "    if verbose:\n",
    "        print(\"Evaluating model on {} random {}-way one-shot learning tasks ...\".format(k, N))\n",
    "    for i in range(k):\n",
    "        inputs, targets = make_oneshot_task(N, X, c, language=language)\n",
    "        probs = model.predict(inputs)\n",
    "        if np.argmax(probs) == np.argmax(targets):\n",
    "            n_correct += 1\n",
    "    percent_correct = (100.0*n_correct / k)\n",
    "    if verbose:\n",
    "        print(\"Got an average of {}% accuracy for {}-way one-shot learning\".format(percent_correct, N))\n",
    "    return percent_correct"
   ]
  },
  {
   "cell_type": "code",
   "execution_count": 0,
   "metadata": {
    "colab": {
     "base_uri": "https://localhost:8080/",
     "height": 422
    },
    "colab_type": "code",
    "id": "WwQPPcsHMvgn",
    "outputId": "75d55103-ed6a-4e0a-a2c8-edf321b0f228"
   },
   "outputs": [
    {
     "name": "stdout",
     "output_type": "stream",
     "text": [
      "=== Training loop 1 ===\n",
      "Epoch 1/1\n",
      "100/100 [==============================] - 6s 65ms/step - loss: 0.7282: 0s - los\n",
      "Evaluating model on 250 random 20-way one-shot learning tasks ...\n",
      "Got an average of 8.0% accuracy for 20-way one-shot learning\n",
      "New best one-shot accuracy, saving model ...\n",
      "=== Training loop 2 ===\n",
      "Epoch 1/1\n",
      "100/100 [==============================] - 6s 65ms/step - loss: 0.7243\n",
      "Evaluating model on 250 random 20-way one-shot learning tasks ...\n",
      "Got an average of 8.0% accuracy for 20-way one-shot learning\n",
      "New best one-shot accuracy, saving model ...\n",
      "=== Training loop 3 ===\n",
      "Epoch 1/1\n",
      "100/100 [==============================] - 6s 65ms/step - loss: 0.7199: 0s - lo\n",
      "Evaluating model on 250 random 20-way one-shot learning tasks ...\n",
      "Got an average of 12.8% accuracy for 20-way one-shot learning\n",
      "New best one-shot accuracy, saving model ...\n",
      "=== Training loop 4 ===\n",
      "Epoch 1/1\n",
      "100/100 [==============================] - 7s 66ms/step - loss: 0.7224\n",
      "Evaluating model on 250 random 20-way one-shot learning tasks ...\n",
      "Got an average of 13.2% accuracy for 20-way one-shot learning\n",
      "New best one-shot accuracy, saving model ...\n",
      "=== Training loop 5 ===\n",
      "Epoch 1/1\n",
      "100/100 [==============================] - 6s 64ms/step - loss: 0.7089\n",
      "Evaluating model on 250 random 20-way one-shot learning tasks ...\n",
      "Got an average of 10.0% accuracy for 20-way one-shot learning\n",
      "=== Training loop 6 ===\n",
      "Epoch 1/1\n",
      "100/100 [==============================] - 6s 64ms/step - loss: 0.7031\n",
      "Evaluating model on 250 random 20-way one-shot learning tasks ...\n",
      "Got an average of 8.8% accuracy for 20-way one-shot learning\n",
      "=== Training loop 7 ===\n",
      "Epoch 1/1\n",
      "100/100 [==============================] - 6s 65ms/step - loss: 0.7017: 0s - loss: 0.702\n",
      "Evaluating model on 250 random 20-way one-shot learning tasks ...\n",
      "Got an average of 12.0% accuracy for 20-way one-shot learning\n",
      "=== Training loop 8 ===\n",
      "Epoch 1/1\n",
      "100/100 [==============================] - ETA: 0s - loss: 0.703 - 6s 64ms/step - loss: 0.7044\n",
      "Evaluating model on 250 random 20-way one-shot learning tasks ...\n",
      "Got an average of 13.2% accuracy for 20-way one-shot learning\n",
      "New best one-shot accuracy, saving model ...\n",
      "=== Training loop 9 ===\n",
      "Epoch 1/1\n",
      "100/100 [==============================] - 6s 64ms/step - loss: 0.7100: 0s - \n",
      "Evaluating model on 250 random 20-way one-shot learning tasks ...\n",
      "Got an average of 10.4% accuracy for 20-way one-shot learning\n",
      "=== Training loop 10 ===\n",
      "Epoch 1/1\n",
      "100/100 [==============================] - 6s 64ms/step - loss: 0.7080\n",
      "Evaluating model on 250 random 20-way one-shot learning tasks ...\n",
      "Got an average of 13.6% accuracy for 20-way one-shot learning\n",
      "New best one-shot accuracy, saving model ...\n"
     ]
    }
   ],
   "source": [
    "loops = 10\n",
    "best_acc = 0\n",
    "for i in range(loops):\n",
    "    print(\"=== Training loop {} ===\".format(i+1))\n",
    "    # Siamese training\n",
    "    train(siamese_net, x_train_samples)\n",
    "    # 20 way-one shot learning task\n",
    "    test_acc = test_oneshot(siamese_net, x_train_rem_samples, y_train_rem_samples)\n",
    "    if test_acc >= best_acc:\n",
    "        print(\"New best one-shot accuracy, saving model ...\")\n",
    "        siamese_net.save(os.path.join(\"models\", \"siamese_omniglot.h5\"))\n",
    "        best_acc = test_acc"
   ]
  },
  {
   "cell_type": "markdown",
   "metadata": {
    "colab_type": "text",
    "id": "COiAqXWDAgCe"
   },
   "source": [
    "***\n",
    "\n",
    "**b)** Compare the performance of your Siamese network for Cifar-100 to the Siamese network from Practical 4 for Omniglot. Name three fundamental differences between the Cifar-100 and Omniglot datasets. How do these differences influence the difference in one-shot accuracy?\n",
    "\n",
    "**Answer:**"
   ]
  },
  {
   "cell_type": "markdown",
   "metadata": {
    "colab_type": "text",
    "id": "IIHkoQ0PBWuB"
   },
   "source": [
    "The performance of Siamese network for Omniglot from Practical 4 achieved an accuracy of 40% whereas the performance of Siamese network for Cifar-100 is around 16%. This difference is caused by:\n",
    "\n",
    "Omniglot dataset has 1643 classes (964 for training and 659 for testing) with 20 examples per class. Whereas Cifar-100 has 100 classes with 600 examples per class (500 for training and 100 for testing).\n",
    "\n",
    "Omniglot dataset composed of handwritten symbols. And due to its size of the image (105x105) we use kernel with 10x10 size and this helps in getting the features extracted (the images have clear edges so few features are enough to represent them). The 1st convolution layer returns 6464 features.\n",
    "Cifar-100 are natural images with shape 32x32x3 (RGB image). They have varying background and most of the image is pixelated thus having noise in it. So, this uses a kernel of size 3x3 so as to not lose the features on the edges and has 1792 features after the 1st convolution layer.\n",
    "\n",
    "Since Cifar-100 is natural and coloured image it is hard for siamese network to recognize the images in one-shot learning. Its representations are harder and deeper on same image. The same class of image can be represented with different background and in different angle too. So this contributes to various possibility of representing a class and makes it more difficult to identify with high accuracy\n",
    "Whereas Omniglot dataset is composed of gray scale well defined symbols. The class of a symbol can be represented only in particular angle with few deformations in some images that can be identified with higher accuracy than Cifar-100. Also there is no variation in background thus reducing the region of interest for one-shot learning.\n",
    "\n",
    "Due to the presence of these significant differences there is difference in their performance."
   ]
  },
  {
   "cell_type": "markdown",
   "metadata": {
    "colab_type": "text",
    "id": "VWpFF_5-Bf4B"
   },
   "source": [
    "***\n",
    "\n",
    "### Task 1.2: One-shot learning with neural codes\n",
    "**a)**\n",
    "* Train a CNN classifier on the first 80 classes of Cifar-100. Make sure it achieves at least 40% classification accuracy on those 80 classes (use the test set to validate this accuracy).\n",
    "* Then use neural codes from one of the later hidden layers of the CNN with L2-distance to evaluate one-shot learning accuracy for the remaining 20 classes of Cifar-100 with 250 random tasks. I.e. for a given one-shot task, obtain neural codes for the test image as well as the support set. Then pick the image from the support set that is closest (in L2-distance) to the test image as your one-shot prediction."
   ]
  },
  {
   "cell_type": "code",
   "execution_count": 0,
   "metadata": {
    "colab": {
     "base_uri": "https://localhost:8080/",
     "height": 339
    },
    "colab_type": "code",
    "id": "7n9sICFTMvgu",
    "outputId": "0de154cc-2396-4d90-bdd8-3151706abc39"
   },
   "outputs": [
    {
     "name": "stdout",
     "output_type": "stream",
     "text": [
      "(40000, 32, 32, 3)\n",
      "(8000, 32, 32, 3)\n",
      "(40000, 80)\n",
      "(8000, 80)\n",
      "Class label: elephant\n"
     ]
    },
    {
     "data": {
      "image/png": "[encoded data removed]",
      "text/plain": [
       "<Figure size 432x288 with 1 Axes>"
      ]
     },
     "metadata": {
      "tags": []
     },
     "output_type": "display_data"
    }
   ],
   "source": [
    "x_training_CNN = x_train_sort[:40000]\n",
    "y_training = y_train_sort[:40000]\n",
    "y_training_CNN = to_categorical(y_training, 80)\n",
    "\n",
    "x_test_CNN = x_test_sort[:8000]\n",
    "y_test = y_test_sort[:8000]\n",
    "y_test_CNN = to_categorical(y_test, 80)\n",
    "\n",
    "print(x_training_CNN.shape)\n",
    "print(x_test_CNN.shape)\n",
    "print(y_training_CNN.shape)\n",
    "print(y_test_CNN.shape)\n",
    "\n",
    "example_id = 15900  # pick any integer from 0 to 49999 to visualize a training example\n",
    "example = x_training_CNN[example_id]\n",
    "label = y_train_sort[example_id]\n",
    "print(\"Class label:\", class_labels[label])\n",
    "plt.imshow(example)\n",
    "plt.show()"
   ]
  },
  {
   "cell_type": "code",
   "execution_count": 0,
   "metadata": {
    "colab": {
     "base_uri": "https://localhost:8080/",
     "height": 633
    },
    "colab_type": "code",
    "id": "qU7rNa157v6r",
    "outputId": "39ebc08e-92e0-48ec-c378-753649df71c3"
   },
   "outputs": [
    {
     "name": "stdout",
     "output_type": "stream",
     "text": [
      "_________________________________________________________________\n",
      "Layer (type)                 Output Shape              Param #   \n",
      "=================================================================\n",
      "conv2d_5 (Conv2D)            (None, 30, 30, 64)        1792      \n",
      "_________________________________________________________________\n",
      "conv2d_6 (Conv2D)            (None, 28, 28, 64)        36928     \n",
      "_________________________________________________________________\n",
      "max_pooling2d_3 (MaxPooling2 (None, 14, 14, 64)        0         \n",
      "_________________________________________________________________\n",
      "batch_normalization_5 (Batch (None, 14, 14, 64)        256       \n",
      "_________________________________________________________________\n",
      "dropout_5 (Dropout)          (None, 14, 14, 64)        0         \n",
      "_________________________________________________________________\n",
      "conv2d_7 (Conv2D)            (None, 12, 12, 128)       73856     \n",
      "_________________________________________________________________\n",
      "conv2d_8 (Conv2D)            (None, 10, 10, 128)       147584    \n",
      "_________________________________________________________________\n",
      "max_pooling2d_4 (MaxPooling2 (None, 5, 5, 128)         0         \n",
      "_________________________________________________________________\n",
      "batch_normalization_6 (Batch (None, 5, 5, 128)         512       \n",
      "_________________________________________________________________\n",
      "dropout_6 (Dropout)          (None, 5, 5, 128)         0         \n",
      "_________________________________________________________________\n",
      "flatten_2 (Flatten)          (None, 3200)              0         \n",
      "_________________________________________________________________\n",
      "hidden_layer (Dense)         (None, 512)               1638912   \n",
      "_________________________________________________________________\n",
      "dropout_7 (Dropout)          (None, 512)               0         \n",
      "_________________________________________________________________\n",
      "dense_3 (Dense)              (None, 80)                41040     \n",
      "=================================================================\n",
      "Total params: 1,940,880\n",
      "Trainable params: 1,940,496\n",
      "Non-trainable params: 384\n",
      "_________________________________________________________________\n"
     ]
    }
   ],
   "source": [
    "# === add code here ===\n",
    "input_shape = (32, 32, 3)\n",
    "model = Sequential()\n",
    "model.add(Conv2D(64,(3,3),activation = 'relu', input_shape = input_shape))\n",
    "model.add(Conv2D(64,(3,3),activation = 'relu'))\n",
    "model.add(MaxPooling2D())\n",
    "model.add(BatchNormalization())\n",
    "model.add(Dropout(0.35))\n",
    "model.add(Conv2D(128,(3,3),activation = 'relu'))\n",
    "model.add(Conv2D(128,(3,3),activation = 'relu'))\n",
    "model.add(MaxPooling2D())\n",
    "model.add(BatchNormalization())\n",
    "model.add(Dropout(0.35))\n",
    "model.add(Flatten())\n",
    "model.add(Dense(512,name = 'hidden_layer', activation = 'relu'))\n",
    "model.add(Dropout(0.5))\n",
    "model.add(Dense(80,activation = 'softmax'))\n",
    "model.summary()\n",
    "\n",
    "model.compile(optimizer=\"adadelta\", loss=\"categorical_crossentropy\", metrics=[\"accuracy\"])"
   ]
  },
  {
   "cell_type": "code",
   "execution_count": 0,
   "metadata": {
    "colab": {
     "base_uri": "https://localhost:8080/",
     "height": 1143
    },
    "colab_type": "code",
    "id": "nNh4qrV1Mvgz",
    "outputId": "6fc80e51-9b0a-4ea3-c5ec-d90e5c08b690"
   },
   "outputs": [
    {
     "name": "stdout",
     "output_type": "stream",
     "text": [
      "(40000, 32, 32, 3)\n",
      "(40000, 80)\n",
      "Train on 40000 samples, validate on 8000 samples\n",
      "Epoch 1/10\n",
      "40000/40000 [==============================] - 26s 661us/step - loss: 4.0309 - acc: 0.1215 - val_loss: 3.8603 - val_acc: 0.1863\n",
      "Epoch 2/10\n",
      "40000/40000 [==============================] - 25s 623us/step - loss: 3.1692 - acc: 0.2293 - val_loss: 3.0266 - val_acc: 0.2815\n",
      "Epoch 3/10\n",
      "40000/40000 [==============================] - 25s 622us/step - loss: 2.7898 - acc: 0.2998 - val_loss: 2.7705 - val_acc: 0.3245\n",
      "Epoch 4/10\n",
      "40000/40000 [==============================] - 25s 623us/step - loss: 2.5294 - acc: 0.3528 - val_loss: 2.2712 - val_acc: 0.4096\n",
      "Epoch 5/10\n",
      "40000/40000 [==============================] - 25s 623us/step - loss: 2.3256 - acc: 0.3948 - val_loss: 2.4311 - val_acc: 0.3920\n",
      "Epoch 6/10\n",
      "40000/40000 [==============================] - 25s 624us/step - loss: 2.1858 - acc: 0.4251 - val_loss: 2.1958 - val_acc: 0.4335\n",
      "Epoch 7/10\n",
      "40000/40000 [==============================] - 25s 623us/step - loss: 2.0821 - acc: 0.4448 - val_loss: 2.1525 - val_acc: 0.4386\n",
      "Epoch 8/10\n",
      "40000/40000 [==============================] - 25s 623us/step - loss: 1.9748 - acc: 0.4714 - val_loss: 2.1313 - val_acc: 0.4390\n",
      "Epoch 9/10\n",
      "40000/40000 [==============================] - 25s 622us/step - loss: 1.8923 - acc: 0.4943 - val_loss: 2.0119 - val_acc: 0.4842\n",
      "Epoch 10/10\n",
      "40000/40000 [==============================] - 25s 623us/step - loss: 1.8153 - acc: 0.5070 - val_loss: 1.9971 - val_acc: 0.4776\n"
     ]
    },
    {
     "data": {
      "text/plain": [
       "<keras.callbacks.History at 0x11ef8892e80>"
      ]
     },
     "execution_count": 19,
     "metadata": {
      "tags": []
     },
     "output_type": "execute_result"
    }
   ],
   "source": [
    "batch_size = 100\n",
    "epochs = 10\n",
    "print(x_training_CNN.shape)\n",
    "print(y_training_CNN.shape)\n",
    "model.fit(x_training_CNN, y_training_CNN,\n",
    "          batch_size=batch_size,\n",
    "          epochs=epochs,\n",
    "          validation_data = (x_test_CNN, y_test_CNN))"
   ]
  },
  {
   "cell_type": "code",
   "execution_count": 0,
   "metadata": {
    "colab": {
     "base_uri": "https://localhost:8080/",
     "height": 70
    },
    "colab_type": "code",
    "id": "SRw5mU2MOplR",
    "outputId": "0dafcade-8e83-4627-ab89-3373045e63c6"
   },
   "outputs": [
    {
     "name": "stdout",
     "output_type": "stream",
     "text": [
      "8000/8000 [==============================] - 2s 245us/step\n",
      "Test loss: 1.9971144835948944\n",
      "Test accuracy: 0.477625\n"
     ]
    }
   ],
   "source": [
    "loss, accuracy = model.evaluate(x_test_CNN, y_test_CNN, verbose=1)\n",
    "\n",
    "print('Test loss:', loss)\n",
    "print('Test accuracy:', accuracy)"
   ]
  },
  {
   "cell_type": "code",
   "execution_count": 0,
   "metadata": {
    "colab": {
     "base_uri": "https://localhost:8080/",
     "height": 598
    },
    "colab_type": "code",
    "id": "r-trorOE3ArK",
    "outputId": "7bb43ab6-ce0d-4be6-8988-4206e0e1ec20"
   },
   "outputs": [
    {
     "name": "stdout",
     "output_type": "stream",
     "text": [
      "_________________________________________________________________\n",
      "Layer (type)                 Output Shape              Param #   \n",
      "=================================================================\n",
      "conv2d_5_input (InputLayer)  (None, 32, 32, 3)         0         \n",
      "_________________________________________________________________\n",
      "conv2d_5 (Conv2D)            (None, 30, 30, 64)        1792      \n",
      "_________________________________________________________________\n",
      "conv2d_6 (Conv2D)            (None, 28, 28, 64)        36928     \n",
      "_________________________________________________________________\n",
      "max_pooling2d_3 (MaxPooling2 (None, 14, 14, 64)        0         \n",
      "_________________________________________________________________\n",
      "batch_normalization_5 (Batch (None, 14, 14, 64)        256       \n",
      "_________________________________________________________________\n",
      "dropout_5 (Dropout)          (None, 14, 14, 64)        0         \n",
      "_________________________________________________________________\n",
      "conv2d_7 (Conv2D)            (None, 12, 12, 128)       73856     \n",
      "_________________________________________________________________\n",
      "conv2d_8 (Conv2D)            (None, 10, 10, 128)       147584    \n",
      "_________________________________________________________________\n",
      "max_pooling2d_4 (MaxPooling2 (None, 5, 5, 128)         0         \n",
      "_________________________________________________________________\n",
      "batch_normalization_6 (Batch (None, 5, 5, 128)         512       \n",
      "_________________________________________________________________\n",
      "dropout_6 (Dropout)          (None, 5, 5, 128)         0         \n",
      "_________________________________________________________________\n",
      "flatten_2 (Flatten)          (None, 3200)              0         \n",
      "_________________________________________________________________\n",
      "hidden_layer (Dense)         (None, 512)               1638912   \n",
      "=================================================================\n",
      "Total params: 1,899,840\n",
      "Trainable params: 1,899,456\n",
      "Non-trainable params: 384\n",
      "_________________________________________________________________\n"
     ]
    }
   ],
   "source": [
    "neural_codes_model = Model(inputs = model.input, outputs = model.get_layer(\"hidden_layer\").output)\n",
    "neural_codes_model.summary()"
   ]
  },
  {
   "cell_type": "code",
   "execution_count": 0,
   "metadata": {
    "colab": {},
    "colab_type": "code",
    "id": "-ONjOoLqBE7s"
   },
   "outputs": [],
   "source": [
    "def make_oneshot_task2(N, X):\n",
    "    \"\"\"Create pairs of (test image, support set image) with ground truth, for testing N-way one-shot learning.\"\"\"\n",
    "    n_classes, n_examples, w, h, d = X.shape\n",
    "    indices = np.random.randint(0, n_examples, size=(N,))\n",
    "    categories = np.random.choice(range(n_classes), size=(N,), replace=False)            \n",
    "    true_category = categories[0]\n",
    "    ex1, ex2 = np.random.choice(n_examples, replace=False, size=(2,))\n",
    "    test_image = np.asarray([X[true_category, ex1, :, :]]*N).reshape(N, w, h, d)\n",
    "    support_set = X[categories, indices, :, :]\n",
    "    support_set[0, :, :] = X[true_category, ex2]\n",
    "    support_set = support_set.reshape(N, w, h, d)\n",
    "    targets = np.zeros((N,))\n",
    "    targets[0] = 1\n",
    "    targets, test_image, support_set = shuffle(targets, test_image, support_set)\n",
    "    #pairs = [test_image, support_set]\n",
    "    return test_image, support_set, targets"
   ]
  },
  {
   "cell_type": "code",
   "execution_count": 0,
   "metadata": {
    "colab": {
     "base_uri": "https://localhost:8080/",
     "height": 34
    },
    "colab_type": "code",
    "id": "PgE2EVhABYop",
    "outputId": "d7249ddd-7d77-4ebd-b41a-0531e2a062d5"
   },
   "outputs": [
    {
     "name": "stdout",
     "output_type": "stream",
     "text": [
      "Got an average of 18.4% accuracy for 20-way one-shot learning\n"
     ]
    }
   ],
   "source": [
    "# One shot learning\n",
    "N=20\n",
    "n_correct = 0\n",
    "k=250\n",
    "\n",
    "for _ in range(0,250):\n",
    "    test_image, support_set, targets = make_oneshot_task2(N,x_train_rem_samples)\n",
    "    test_image_pred = neural_codes_model.predict(test_image)\n",
    "    support_set_pred = neural_codes_model.predict(support_set)\n",
    "    distances = []\n",
    "\n",
    "    for i in range(0,20):\n",
    "        dist = distance.euclidean(test_image_pred[i],support_set_pred[i])\n",
    "        distances.append(dist)\n",
    "    if np.argmin(distances) == np.argmax(targets):\n",
    "        n_correct += 1\n",
    "accuracy = (100.0*n_correct / k)\n",
    "print(\"Got an average of {}% accuracy for {}-way one-shot learning\".format(accuracy, N))"
   ]
  },
  {
   "cell_type": "markdown",
   "metadata": {
    "colab_type": "text",
    "id": "M1BDzdPAz26B"
   },
   "source": [
    "***\n",
    "\n",
    "**b)** Briefly motivate your CNN architecture, and discuss the difference in one-shot accuracy between the Siamese network approach and the CNN neural codes approach.\n",
    "\n",
    "**Answer:**"
   ]
  },
  {
   "cell_type": "markdown",
   "metadata": {
    "colab_type": "text",
    "id": "oRpVm956FR8P"
   },
   "source": [
    "Initially we set the feature for convolution layers as 32, 64 and 128 and a Dropout of 0.2 to 0.5 was tried but could not achieve good accuracy. Then a conclusion was drawn that the features were not enough for it to train on. So started with 64 and 128 features in convolution layers so as to extract enough features. The maxpooling layer was added and dropouts were chosen to be 0.35 (except last layer) to avoid overfitting and also to reduce the density of the network. BatchNormalization was done in between these steps to normalize the output to increase the training speed. The hidden layer is fully connected dense layer with 512 neurons and last layer with 80 neurons for 80 output classes. The dropout is 0.5 so as to avoid overfitting and to remove the similar neurons. The activation is softmax as we need to perform classification. The optimizer adadelta continuously learns and is most suitable for classification tasks, it also works good for sparse networks. Trying with 10 epoch the model achieved an accuracy of 53% whereas with 30 epochs the model achieved an accuracy 56%. This result is due to extensive training of the model with more iterations.\n",
    "\n",
    "Siamese network achieved an accuracy of 16%. This network compares 2 images, their distances and concludes if they are from same class or not. Whereas the CNN uses L2 distance metric to measure the distance between embeddings "
   ]
  },
  {
   "cell_type": "markdown",
   "metadata": {
    "colab_type": "text",
    "id": "p-gkaM1tCThc"
   },
   "source": [
    "***\n",
    "## Question 2: Triplet networks & one-shot learning (10pt)\n",
    "\n",
    "### Task 2.1: Train a triplet network\n",
    "**a)**\n",
    "* Train a triplet network on the first 80 classes of (the training set of) Cifar-100.\n",
    " \n",
    "* Make sure the network achieves a smaller loss than the margin and the network does not collapse all representations to zero vectors. *HINT: If you experience problems to achieve this goal, it might be helpful to tinker the learning rate.*\n",
    "\n",
    "* You are provided with a working example of triplet loss implementation for Keras below. You may directly use it.\n",
    "\n",
    "You may ignore the test set of Cifar-100 for this question as well. It suffices to use only the training set and split this, using the first 80 classes for training and the remaining 20 classes for one-shot testing.\n",
    "\n",
    "```python\n",
    "# Notice that ground truth variable is not used for loss calculation. It is used as a function argument to by-pass some Keras functionality. This is because the network structure already implies the ground truth for the anchor image with the \"positive\" image.\n",
    "import tensorflow as tf\n",
    "def triplet_loss(ground_truth, network_output):\n",
    "\n",
    "    anchor, positive, negative = tf.split(network_output, num_or_size_splits=3, axis=1)        \n",
    "    \n",
    "    for embedding in [anchor, positive, negative]:\n",
    "        embedding = tf.math.l2_normalize(embedding)\n",
    "\n",
    "    pos_dist = tf.reduce_sum(tf.square(tf.subtract(anchor, positive)), axis=1)\n",
    "    neg_dist = tf.reduce_sum(tf.square(tf.subtract(anchor, negative)), axis=1)\n",
    "    \n",
    "    margin = # define your margin\n",
    "    basic_loss = tf.add(tf.subtract(pos_dist, neg_dist), margin)\n",
    "    loss = tf.reduce_mean(tf.maximum(basic_loss, 0.0), axis=0)\n",
    "\n",
    "    return loss\n",
    "```\n"
   ]
  },
  {
   "cell_type": "code",
   "execution_count": 0,
   "metadata": {
    "colab": {},
    "colab_type": "code",
    "id": "613lEuca7DKw"
   },
   "outputs": [],
   "source": [
    "import tensorflow as tf\n",
    "def triplet_loss(ground_truth, network_output):\n",
    "\n",
    "    anchor, positive, negative = tf.split(network_output, num_or_size_splits=3, axis=1)        \n",
    "\n",
    "    for embedding in [anchor, positive, negative]:\n",
    "        embedding = tf.math.l2_normalize(embedding)\n",
    "\n",
    "    pos_dist = tf.reduce_sum(tf.square(tf.subtract(anchor, positive)), axis=1)\n",
    "    neg_dist = tf.reduce_sum(tf.square(tf.subtract(anchor, negative)), axis=1)\n",
    "\n",
    "    margin = 0.15 # define your margin\n",
    "    basic_loss = tf.add(tf.subtract(pos_dist, neg_dist), margin)\n",
    "    loss = tf.reduce_mean(tf.maximum(basic_loss, 0.0), axis=0)\n",
    "\n",
    "    return loss"
   ]
  },
  {
   "cell_type": "code",
   "execution_count": 0,
   "metadata": {
    "colab": {
     "base_uri": "https://localhost:8080/",
     "height": 1119
    },
    "colab_type": "code",
    "id": "GwrNzriE-vsZ",
    "outputId": "ba303731-0248-4f77-d2b1-7875c827237a"
   },
   "outputs": [
    {
     "name": "stdout",
     "output_type": "stream",
     "text": [
      "_________________________________________________________________\n",
      "Layer (type)                 Output Shape              Param #   \n",
      "=================================================================\n",
      "conv2d_89 (Conv2D)           (None, 30, 30, 64)        1792      \n",
      "_________________________________________________________________\n",
      "max_pooling2d_45 (MaxPooling (None, 15, 15, 64)        0         \n",
      "_________________________________________________________________\n",
      "batch_normalization_86 (Batc (None, 15, 15, 64)        256       \n",
      "_________________________________________________________________\n",
      "dropout_87 (Dropout)         (None, 15, 15, 64)        0         \n",
      "_________________________________________________________________\n",
      "conv2d_90 (Conv2D)           (None, 13, 13, 128)       73856     \n",
      "_________________________________________________________________\n",
      "max_pooling2d_46 (MaxPooling (None, 6, 6, 128)         0         \n",
      "_________________________________________________________________\n",
      "batch_normalization_87 (Batc (None, 6, 6, 128)         512       \n",
      "_________________________________________________________________\n",
      "dropout_88 (Dropout)         (None, 6, 6, 128)         0         \n",
      "_________________________________________________________________\n",
      "conv2d_91 (Conv2D)           (None, 4, 4, 128)         147584    \n",
      "_________________________________________________________________\n",
      "batch_normalization_88 (Batc (None, 4, 4, 128)         512       \n",
      "_________________________________________________________________\n",
      "dropout_89 (Dropout)         (None, 4, 4, 128)         0         \n",
      "_________________________________________________________________\n",
      "conv2d_92 (Conv2D)           (None, 2, 2, 256)         295168    \n",
      "_________________________________________________________________\n",
      "flatten_23 (Flatten)         (None, 1024)              0         \n",
      "_________________________________________________________________\n",
      "batch_normalization_89 (Batc (None, 1024)              4096      \n",
      "_________________________________________________________________\n",
      "dropout_90 (Dropout)         (None, 1024)              0         \n",
      "_________________________________________________________________\n",
      "hidden_layer (Dense)         (None, 2048)              2099200   \n",
      "=================================================================\n",
      "Total params: 2,622,976\n",
      "Trainable params: 2,620,288\n",
      "Non-trainable params: 2,688\n",
      "_________________________________________________________________\n",
      "__________________________________________________________________________________________________\n",
      "Layer (type)                    Output Shape         Param #     Connected to                     \n",
      "==================================================================================================\n",
      "input_63 (InputLayer)           (None, 32, 32, 3)    0                                            \n",
      "__________________________________________________________________________________________________\n",
      "input_10 (InputLayer)           (None, 32, 32, 3)    0                                            \n",
      "__________________________________________________________________________________________________\n",
      "input_65 (InputLayer)           (None, 32, 32, 3)    0                                            \n",
      "__________________________________________________________________________________________________\n",
      "sequential_23 (Sequential)      (None, 2048)         2622976     input_63[0][0]                   \n",
      "                                                                 input_10[0][0]                   \n",
      "                                                                 input_65[0][0]                   \n",
      "__________________________________________________________________________________________________\n",
      "concatenate_20 (Concatenate)    (None, 6144)         0           sequential_23[1][0]              \n",
      "                                                                 sequential_23[2][0]              \n",
      "                                                                 sequential_23[3][0]              \n",
      "==================================================================================================\n",
      "Total params: 2,622,976\n",
      "Trainable params: 2,620,288\n",
      "Non-trainable params: 2,688\n",
      "__________________________________________________________________________________________________\n"
     ]
    }
   ],
   "source": [
    "input_shape = (32, 32, 3)\n",
    "anchor_input = Input(input_shape)\n",
    "npositive_input = Input(input_shape)\n",
    "negative_input = Input(input_shape)\n",
    "\n",
    "# build convnet to use in each siamese 'leg'\n",
    "convnet_triplet = Sequential()\n",
    "\n",
    "convnet_triplet.add(Conv2D(64, (3,3), activation='relu', input_shape=input_shape, kernel_regularizer=l2(2e-4)))\n",
    "convnet_triplet.add(MaxPooling2D())\n",
    "convnet_triplet.add(BatchNormalization())\n",
    "convnet_triplet.add(Dropout(0.25))\n",
    "\n",
    "convnet_triplet.add(Conv2D(128, (3,3), activation='relu', kernel_regularizer=l2(2e-4)))\n",
    "convnet_triplet.add(MaxPooling2D())\n",
    "convnet_triplet.add(BatchNormalization())\n",
    "convnet_triplet.add(Dropout(0.25))\n",
    "\n",
    "convnet_triplet.add(Conv2D(128, (3,3), activation='relu', kernel_regularizer=l2(2e-4)))\n",
    "convnet_triplet.add(BatchNormalization())\n",
    "convnet_triplet.add(Dropout(0.25))\n",
    "\n",
    "convnet_triplet.add(Conv2D(256, (3,3), activation='relu', kernel_regularizer=l2(2e-4)))\n",
    "convnet_triplet.add(Flatten())\n",
    "convnet_triplet.add(BatchNormalization())\n",
    "convnet_triplet.add(Dropout(0.25))\n",
    "\n",
    "convnet_triplet.add(Dense(2048, activation=\"sigmoid\", name=\"hidden_layer\", kernel_regularizer=l2(1e-3)))\n",
    "convnet_triplet.summary()\n",
    "\n",
    "# encode each of the two inputs into a vector with the convnet\n",
    "encoded_anchor = convnet_triplet(anchor_input)\n",
    "encoded_positive = convnet_triplet(positive_input)\n",
    "encoded_negative = convnet_triplet(negative_input)\n",
    "\n",
    "# merge two encoded inputs with the L1 distance between them, and connect to prediction output layer\n",
    "# L2_distance = lambda x: K.abs(x[0]-x[1])\n",
    "\n",
    "# all_three = Lambda(L2_distance)([encoded_anchor, encoded_positive, encoded_negative])\n",
    "# prediction_t = Dense(1, activation='sigmoid')(all_three)\n",
    "\n",
    "merged_vector = Concatenate(axis=-1)([encoded_anchor, encoded_positive, encoded_negative])\n",
    "# prediction_t = Dense(6561, activation=\"sigmoid\", kernel_regularizer=l2(1e-3))(merged_vector)\n",
    "triplet_net = Model(inputs=[anchor_input, positive_input ,negative_input], outputs=merged_vector)\n",
    "# triplet_net = Model(inputs=[anchor_input, positive_input ,negative_input])\n",
    "# triplet_net.add(prediction_t)\n",
    "\n",
    "\n",
    "triplet_net.compile(loss=triplet_loss, optimizer=keras.optimizers.Adadelta(1.2))\n",
    "\n",
    "triplet_net.summary()"
   ]
  },
  {
   "cell_type": "code",
   "execution_count": 0,
   "metadata": {
    "colab": {},
    "colab_type": "code",
    "id": "fpWVI6fjSZbq"
   },
   "outputs": [],
   "source": [
    "def get_triplets(batch_size, X):\n",
    "    \"\"\"Create batch of n triplets, half same class, half different class\"\"\"\n",
    "    n_classes, n_examples, w, h, d = X.shape\n",
    "\n",
    "    categories = np.random.choice(n_classes, size=(batch_size,), replace=False)\n",
    "    triplets = [np.zeros((batch_size, h, w, d)) for i in range(3)]\n",
    "    targets = np.zeros((batch_size,))\n",
    "    for i in range(batch_size):\n",
    "        category = categories[i]\n",
    "        idx_1 = np.random.randint(0, n_examples)\n",
    "        triplets[0][i, :, :, :] = X[category, idx_1].reshape(w, h, d)\n",
    "        idx_2 = np.random.randint(0, n_examples)\n",
    "        triplets[1][i, :, :, :] = X[category, idx_2].reshape(w, h, d)\n",
    "        idx_3 = np.random.randint(0, n_examples)\n",
    "        category_2 = (category + np.random.randint(1,n_classes)) % n_classes\n",
    "        triplets[2][i, :, :, :] = X[category_2, idx_3].reshape(w, h, d)\n",
    "    return triplets, targets\n",
    "\n",
    "def triplet_generator(batch_size, X):\n",
    "    \"\"\"a generator for batches, so model.fit_generator can be used. \"\"\"\n",
    "    while True:\n",
    "        triplets, targets = get_triplets(batch_size, X)\n",
    "        yield (triplets, targets)\n",
    "\n",
    "def train_triplet_network(model, X_train, batch_size=64, steps_per_epoch=100, epochs=40):\n",
    "    model.fit_generator(triplet_generator(batch_size, X_train), steps_per_epoch=steps_per_epoch, epochs=epochs)\n",
    "        "
   ]
  },
  {
   "cell_type": "code",
   "execution_count": 0,
   "metadata": {
    "colab": {
     "base_uri": "https://localhost:8080/",
     "height": 90
    },
    "colab_type": "code",
    "id": "0kkBc4ES1xeV",
    "outputId": "a395925b-85df-4ee6-beba-1758fd36fb06"
   },
   "outputs": [
    {
     "name": "stdout",
     "output_type": "stream",
     "text": [
      "(80, 500, 32, 32, 3)\n",
      "(40000,)\n",
      "(20, 500, 32, 32, 3)\n",
      "(10000,)\n"
     ]
    }
   ],
   "source": [
    "# Data for triplet\n",
    "\n",
    "x_training_triplet = x_train_samples\n",
    "y_training_triplet = y_train_samples\n",
    "\n",
    "print(x_training_triplet.shape)\n",
    "print(y_training_triplet.shape)\n",
    "\n",
    "x_test_triplet = x_train_rem_samples\n",
    "y_test_triplet = y_train_rem_samples\n",
    "\n",
    "print(x_test_triplet.shape)\n",
    "print(y_test_triplet.shape)\n"
   ]
  },
  {
   "cell_type": "code",
   "execution_count": 0,
   "metadata": {
    "colab": {
     "base_uri": "https://localhost:8080/",
     "height": 2221
    },
    "colab_type": "code",
    "id": "fRmiRbKplgzG",
    "outputId": "cf222896-bb98-4032-f20e-a5ef4681f961"
   },
   "outputs": [
    {
     "name": "stdout",
     "output_type": "stream",
     "text": [
      "Epoch 1/60\n",
      "100/100 [==============================] - 15s 153ms/step - loss: 12.8759\n",
      "Epoch 2/60\n",
      "100/100 [==============================] - 3s 31ms/step - loss: 12.4111\n",
      "Epoch 3/60\n",
      "100/100 [==============================] - 3s 31ms/step - loss: 11.2317\n",
      "Epoch 4/60\n",
      "100/100 [==============================] - 3s 30ms/step - loss: 10.8129\n",
      "Epoch 5/60\n",
      "100/100 [==============================] - 3s 29ms/step - loss: 10.4428\n",
      "Epoch 6/60\n",
      "100/100 [==============================] - 3s 29ms/step - loss: 10.1816\n",
      "Epoch 7/60\n",
      "100/100 [==============================] - 3s 29ms/step - loss: 9.4674\n",
      "Epoch 8/60\n",
      "100/100 [==============================] - 3s 29ms/step - loss: 9.0689\n",
      "Epoch 9/60\n",
      "100/100 [==============================] - 3s 29ms/step - loss: 8.6481\n",
      "Epoch 10/60\n",
      "100/100 [==============================] - 3s 29ms/step - loss: 7.7313\n",
      "Epoch 11/60\n",
      "100/100 [==============================] - 3s 29ms/step - loss: 6.8906\n",
      "Epoch 12/60\n",
      "100/100 [==============================] - 3s 29ms/step - loss: 5.3226\n",
      "Epoch 13/60\n",
      "100/100 [==============================] - 3s 29ms/step - loss: 3.8487\n",
      "Epoch 14/60\n",
      "100/100 [==============================] - 3s 29ms/step - loss: 2.6817\n",
      "Epoch 15/60\n",
      "100/100 [==============================] - 3s 29ms/step - loss: 1.8796\n",
      "Epoch 16/60\n",
      "100/100 [==============================] - 3s 29ms/step - loss: 1.3458\n",
      "Epoch 17/60\n",
      "100/100 [==============================] - 3s 29ms/step - loss: 0.9996\n",
      "Epoch 18/60\n",
      "100/100 [==============================] - 3s 29ms/step - loss: 0.7663\n",
      "Epoch 19/60\n",
      "100/100 [==============================] - 3s 29ms/step - loss: 0.6127\n",
      "Epoch 20/60\n",
      "100/100 [==============================] - 3s 29ms/step - loss: 0.5034\n",
      "Epoch 21/60\n",
      "100/100 [==============================] - 3s 29ms/step - loss: 0.4298\n",
      "Epoch 22/60\n",
      "100/100 [==============================] - 3s 29ms/step - loss: 0.3813\n",
      "Epoch 23/60\n",
      "100/100 [==============================] - 3s 29ms/step - loss: 0.3481\n",
      "Epoch 24/60\n",
      "100/100 [==============================] - 3s 29ms/step - loss: 0.3192\n",
      "Epoch 25/60\n",
      "100/100 [==============================] - 3s 29ms/step - loss: 0.2957\n",
      "Epoch 26/60\n",
      "100/100 [==============================] - 3s 29ms/step - loss: 0.2781\n",
      "Epoch 27/60\n",
      "100/100 [==============================] - 3s 30ms/step - loss: 0.2663\n",
      "Epoch 28/60\n",
      "100/100 [==============================] - 3s 31ms/step - loss: 0.2583\n",
      "Epoch 29/60\n",
      "100/100 [==============================] - 3s 31ms/step - loss: 0.2446\n",
      "Epoch 30/60\n",
      "100/100 [==============================] - 3s 31ms/step - loss: 0.2334\n",
      "Epoch 31/60\n",
      "100/100 [==============================] - 3s 31ms/step - loss: 0.2274\n",
      "Epoch 32/60\n",
      "100/100 [==============================] - 3s 30ms/step - loss: 0.2201\n",
      "Epoch 33/60\n",
      "100/100 [==============================] - 3s 29ms/step - loss: 0.2136\n",
      "Epoch 34/60\n",
      "100/100 [==============================] - 3s 29ms/step - loss: 0.2102\n",
      "Epoch 35/60\n",
      "100/100 [==============================] - 3s 29ms/step - loss: 0.2047\n",
      "Epoch 36/60\n",
      "100/100 [==============================] - 3s 29ms/step - loss: 0.1978\n",
      "Epoch 37/60\n",
      "100/100 [==============================] - 3s 29ms/step - loss: 0.1948\n",
      "Epoch 38/60\n",
      "100/100 [==============================] - 3s 29ms/step - loss: 0.1892\n",
      "Epoch 39/60\n",
      "100/100 [==============================] - 3s 29ms/step - loss: 0.1895\n",
      "Epoch 40/60\n",
      "100/100 [==============================] - 3s 29ms/step - loss: 0.1854\n",
      "Epoch 41/60\n",
      "100/100 [==============================] - 3s 29ms/step - loss: 0.1851\n",
      "Epoch 42/60\n",
      "100/100 [==============================] - 3s 29ms/step - loss: 0.1783\n",
      "Epoch 43/60\n",
      "100/100 [==============================] - 3s 29ms/step - loss: 0.1781\n",
      "Epoch 44/60\n",
      "100/100 [==============================] - 3s 29ms/step - loss: 0.1728\n",
      "Epoch 45/60\n",
      "100/100 [==============================] - 3s 29ms/step - loss: 0.1741\n",
      "Epoch 46/60\n",
      "100/100 [==============================] - 3s 29ms/step - loss: 0.1686\n",
      "Epoch 47/60\n",
      "100/100 [==============================] - 3s 29ms/step - loss: 0.1668\n",
      "Epoch 48/60\n",
      "100/100 [==============================] - 3s 31ms/step - loss: 0.1661\n",
      "Epoch 49/60\n",
      "100/100 [==============================] - 3s 30ms/step - loss: 0.1623\n",
      "Epoch 50/60\n",
      "100/100 [==============================] - 3s 29ms/step - loss: 0.1657\n",
      "Epoch 51/60\n",
      "100/100 [==============================] - 3s 29ms/step - loss: 0.1622\n",
      "Epoch 52/60\n",
      "100/100 [==============================] - 3s 29ms/step - loss: 0.1599\n",
      "Epoch 53/60\n",
      "100/100 [==============================] - 3s 29ms/step - loss: 0.1565\n",
      "Epoch 54/60\n",
      "100/100 [==============================] - 3s 29ms/step - loss: 0.1607\n",
      "Epoch 55/60\n",
      "100/100 [==============================] - 3s 29ms/step - loss: 0.1560\n",
      "Epoch 56/60\n",
      "100/100 [==============================] - 3s 30ms/step - loss: 0.1589\n",
      "Epoch 57/60\n",
      "100/100 [==============================] - 3s 31ms/step - loss: 0.1535\n",
      "Epoch 58/60\n",
      "100/100 [==============================] - 3s 31ms/step - loss: 0.1498\n",
      "Epoch 59/60\n",
      "100/100 [==============================] - 3s 30ms/step - loss: 0.1547\n",
      "Epoch 60/60\n",
      "100/100 [==============================] - 3s 29ms/step - loss: 0.1500\n"
     ]
    }
   ],
   "source": [
    "train_triplet_network(triplet_net, x_training_triplet, epochs=60)"
   ]
  },
  {
   "cell_type": "markdown",
   "metadata": {
    "colab_type": "text",
    "id": "XHGJp45AR1qm"
   },
   "source": [
    "***\n",
    "\n",
    "### Task 2.2: One-shot learning with triplet neural codes\n",
    "**a)**\n",
    "* Use neural codes from the triplet network with L2-distance to evaluate one-shot learning accuracy for the remaining 20 classes of Cifar-100 with 250 random tasks. I.e. for a given one-shot task, obtain neural codes for the test image as well as the support set. Then pick the image from the support set that is closest (in L2-distance) to the test image as your one-shot prediction.\n",
    "* Explicitly state the accuracy."
   ]
  },
  {
   "cell_type": "code",
   "execution_count": 0,
   "metadata": {
    "colab": {},
    "colab_type": "code",
    "id": "7w6o8xIXUADN"
   },
   "outputs": [],
   "source": [
    "def make_oneshot_task_triplet(N, X, c, language=None):\n",
    "    \"\"\"Create pairs of (test image, support set image) with ground truth, for testing N-way one-shot learning.\"\"\"\n",
    "    n_classes, n_examples, w, h, d = X.shape\n",
    "    \n",
    "    indices = np.random.randint(0, n_examples, size=(N,))\n",
    "#     print\n",
    "    categories = np.random.choice(range(n_classes), size=(N,), replace=False)            \n",
    "    \n",
    "    true_category = categories[0]\n",
    "    \n",
    "    ex1, ex2 = np.random.choice(n_examples, replace=False, size=(2,))\n",
    "    \n",
    "    test_image = np.asarray([X[true_category, ex1, :, :]]*N).reshape(N, w, h, d)\n",
    "    \n",
    "    negative_set = X[categories, indices, :, :]\n",
    "#     support_set = X[categories, indices, :, :]\n",
    "#     positive_set = np.zeros((categories,indices,))\n",
    "    positive_set = np.asarray([X[true_category, ex2, :, :]]*N).reshape(N, w, h, d)\n",
    "    negative_set = negative_set.reshape(N, w, h, d)\n",
    "    targets = np.zeros((N,))\n",
    "    test_image, positive_set, negative_set = shuffle(test_image, positive_set, negative_set)\n",
    "    triplets = (test_image, positive_set, negative_set)\n",
    "    triplets = list(triplets)\n",
    "    return triplets\n",
    "\n",
    "def test_oneshot_triplet(model, X, c, N=20, k=250, language=None, verbose=True):\n",
    "    \"\"\"Test average N-way oneshot learning accuracy of a siamese neural net over k one-shot tasks.\"\"\"\n",
    "    n_correct = 0\n",
    "    if verbose:\n",
    "        print(\"Evaluating model on {} random {}-way one-shot learning tasks ...\".format(k, N))\n",
    "    for i in range(k):\n",
    "        \n",
    "        triplets = make_oneshot_task_triplet(N, X, c, language=language)\n",
    "        probs = model.predict(triplets)\n",
    "        \n",
    "        loss = check_triple_net_loss(probs)\n",
    "        if loss > 0 :\n",
    "            n_correct +=1\n",
    "    percent_correct = (100.0*n_correct / k)\n",
    "    if verbose:\n",
    "        print(\"Got an average of {}% accuracy for {}-way one-shot learning\".format(percent_correct, N))\n",
    "    return percent_correct\n",
    "\n",
    "\n",
    "def check_triple_net_loss(probs):\n",
    "    anchor, positive, negative = tf.split(probs, num_or_size_splits=3, axis=1)        \n",
    "\n",
    "    pos_dist = tf.reduce_sum(tf.square(tf.subtract(anchor, positive)), axis=1)\n",
    "    neg_dist = tf.reduce_sum(tf.square(tf.subtract(anchor, negative)), axis=1)\n",
    "\n",
    "    actual_loss= tf.reduce_sum(tf.subtract(pos_dist,neg_dist)).eval(session = sess)\n",
    "    return actual_loss"
   ]
  },
  {
   "cell_type": "code",
   "execution_count": 0,
   "metadata": {
    "colab": {
     "base_uri": "https://localhost:8080/",
     "height": 72
    },
    "colab_type": "code",
    "id": "ZXIlFHsmb3eV",
    "outputId": "481d0337-68fe-4d15-8d40-5e79bb72f344"
   },
   "outputs": [
    {
     "name": "stdout",
     "output_type": "stream",
     "text": [
      "Evaluating model on 250 random 20-way one-shot learning tasks ...\n",
      "Got an average of 16.8% accuracy for 20-way one-shot learning\n"
     ]
    },
    {
     "data": {
      "text/plain": [
       "16.8"
      ]
     },
     "execution_count": 239,
     "metadata": {
      "tags": []
     },
     "output_type": "execute_result"
    }
   ],
   "source": [
    "sess = tf.Session()\n",
    "sess.as_default()\n",
    "\n",
    "test_oneshot_triplet(triplet_net, x_test_triplet, [], N = 20)\n"
   ]
  },
  {
   "cell_type": "markdown",
   "metadata": {
    "colab_type": "text",
    "id": "CCcmbz0UU7mR"
   },
   "source": [
    "***\n",
    "## Question 3: Performance comparison (3pt)\n",
    "\n",
    "\n",
    "**a)** What accuracy would random guessing achieve (on average) on this dataset? Motivate your answer briefly."
   ]
  },
  {
   "cell_type": "markdown",
   "metadata": {
    "colab_type": "text",
    "id": "BKGDydqsVVX1"
   },
   "source": [
    "On random guessing this data set would achieve (100/n_classes)% accuracy. Here we do it for 20 classes so 5% is the accuracy that will be achieved for random guessing.\n",
    "\n"
   ]
  },
  {
   "cell_type": "markdown",
   "metadata": {
    "colab_type": "text",
    "id": "5KLXRv-eV04Q"
   },
   "source": [
    "**b)** Discuss and compare the performances of networks in tasks 1.1, 1.2 and 2.2. Briefly motivate and explain which task would be expected the highest accuracy. Explain the reasons of the accuracy difference if there are any. If there is almost no difference accuracy, explain the reason for that."
   ]
  },
  {
   "cell_type": "markdown",
   "metadata": {
    "colab_type": "text",
    "id": "71kTHFBkcjp8"
   },
   "source": [
    "The performance of the tasks vary for all the three questions. Q1.1 gives an accuracy of around 15%, Q1.2 gives an accuracy of around 48% and Q2.2 gives an accuracy of  16.8%. In 1.1 and 2.2 we compare the similarity between images with respect to their distances and say if they are from same class or not. Since it is colour image with varying background and has some noise in it, similarity calculation of final image performs poorly but 1.2 calculates the distance between the two images with help of the embedding matrix and says if it is from similar class or not. This variation of metric costs big and thus affect the performance."
   ]
  },
  {
   "cell_type": "markdown",
   "metadata": {
    "colab_type": "text",
    "id": "pn1Q0zG1Mvg_"
   },
   "source": [
    "***\n",
    "## Question 4: Peer review (0pt)\n",
    "\n",
    "Finally, each group member must write a single paragraph outlining their opinion on the work distribution within the group. Did every group member contribute equally? Did you split up tasks in a fair manner, or jointly worked through the exercises. Do you think that some members of your group deserve a different grade from others?"
   ]
  },
  {
   "cell_type": "markdown",
   "metadata": {
    "colab_type": "text",
    "id": "vL2NQVFxMvg_"
   },
   "source": [
    "*=== write your answer here ===*"
   ]
  }
 ],
 "metadata": {
  "accelerator": "GPU",
  "colab": {
   "collapsed_sections": [],
   "name": "Assignment_2_FinalFinal.ipynb",
   "provenance": [],
   "version": "0.3.2"
  },
  "kernelspec": {
   "display_name": "Python 3",
   "language": "python",
   "name": "python3"
  },
  "language_info": {
   "codemirror_mode": {
    "name": "ipython",
    "version": 3
   },
   "file_extension": ".py",
   "mimetype": "text/x-python",
   "name": "python",
   "nbconvert_exporter": "python",
   "pygments_lexer": "ipython3",
   "version": "3.6.8"
  }
 },
 "nbformat": 4,
 "nbformat_minor": 1
}
